{
  "nbformat": 4,
  "nbformat_minor": 0,
  "metadata": {
    "colab": {
      "name": "QAS_BERT_Tensorflow.ipynb",
      "provenance": [],
      "collapsed_sections": [],
      "authorship_tag": "ABX9TyPoASUs3z3UxCrC37HW+z8W",
      "include_colab_link": true
    },
    "kernelspec": {
      "display_name": "Python 3",
      "name": "python3"
    },
    "language_info": {
      "name": "python"
    }
  },
  "cells": [
    {
      "cell_type": "markdown",
      "metadata": {
        "id": "view-in-github",
        "colab_type": "text"
      },
      "source": [
        "<a href=\"https://colab.research.google.com/github/malinphy/Embedding_calls/blob/main/QAS_BERT_Tensorflow.ipynb\" target=\"_parent\"><img src=\"https://colab.research.google.com/assets/colab-badge.svg\" alt=\"Open In Colab\"/></a>"
      ]
    },
    {
      "cell_type": "code",
      "metadata": {
        "id": "rtgU0r1vmpYo",
        "colab": {
          "base_uri": "https://localhost:8080/"
        },
        "outputId": "9abc0b12-e7ea-42b7-f1b7-405bd9929de6"
      },
      "source": [
        "import numpy as np \n",
        "import pandas as pd \n",
        "import os \n",
        "import sys \n",
        "import json\n",
        "from platform import python_version\n",
        "\n",
        "import tensorflow as tf \n",
        "from tensorflow import keras \n",
        "from tensorflow.keras import layers\n",
        "from tensorflow.keras.layers import Embedding,Dense,MultiHeadAttention\n",
        "\n",
        "import tensorflow_hub as hub\n",
        "!pip install -q tensorflow-text\n",
        "\n",
        "import tensorflow_text as text"
      ],
      "execution_count": 1,
      "outputs": [
        {
          "output_type": "stream",
          "text": [
            "\u001b[K     |████████████████████████████████| 3.4MB 8.5MB/s \n",
            "\u001b[?25h"
          ],
          "name": "stdout"
        }
      ]
    },
    {
      "cell_type": "code",
      "metadata": {
        "colab": {
          "base_uri": "https://localhost:8080/"
        },
        "id": "FSd52L5Im4lv",
        "outputId": "577c34a1-fff8-49cf-dfcb-3b1e3bda8c3c"
      },
      "source": [
        "print('Python Version : ' ,python_version())\n",
        "print('tensorflow version : ', tf.__version__)\n",
        "print('pandas version : ', pd.__version__)\n",
        "print('numpy version : ', np.__version__)\n",
        "print('tf_hub version : ', hub.__version__)\n"
      ],
      "execution_count": 2,
      "outputs": [
        {
          "output_type": "stream",
          "text": [
            "Python Version :  3.7.10\n",
            "tensorflow version :  2.4.1\n",
            "pandas version :  1.1.5\n",
            "numpy version :  1.19.5\n",
            "tf_hub version :  0.11.0\n"
          ],
          "name": "stdout"
        }
      ]
    },
    {
      "cell_type": "code",
      "metadata": {
        "id": "LmBrG2h5nNiH",
        "colab": {
          "base_uri": "https://localhost:8080/"
        },
        "outputId": "aea1379d-97fe-466c-eb6d-948468108235"
      },
      "source": [
        "train_path = keras.utils.get_file(\"train.json\", \"https://rajpurkar.github.io/SQuAD-explorer/dataset/train-v1.1.json\")\n",
        "eval_path = keras.utils.get_file(\"eval.json\", \"https://rajpurkar.github.io/SQuAD-explorer/dataset/dev-v1.1.json\")\n",
        "with open(train_path) as f: raw_train_data = json.load(f)\n",
        "with open(eval_path) as f: raw_eval_data = json.load(f)\n",
        "# max_seq_length = 384"
      ],
      "execution_count": 3,
      "outputs": [
        {
          "output_type": "stream",
          "text": [
            "Downloading data from https://rajpurkar.github.io/SQuAD-explorer/dataset/train-v1.1.json\n",
            "30294016/30288272 [==============================] - 0s 0us/step\n",
            "Downloading data from https://rajpurkar.github.io/SQuAD-explorer/dataset/dev-v1.1.json\n",
            "4857856/4854279 [==============================] - 0s 0us/step\n"
          ],
          "name": "stdout"
        }
      ]
    },
    {
      "cell_type": "code",
      "metadata": {
        "colab": {
          "base_uri": "https://localhost:8080/"
        },
        "id": "1TEzyk13o3m_",
        "outputId": "eb3378eb-ed6b-4c63-d7ac-7ec494e39823"
      },
      "source": [
        "print(raw_train_data.keys())\n",
        "print(raw_train_data['data'][0].keys())\n",
        "print(raw_train_data['data'][0]['title'][0:])\n",
        "print(raw_train_data['data'][1]['title'][0:])"
      ],
      "execution_count": 4,
      "outputs": [
        {
          "output_type": "stream",
          "text": [
            "dict_keys(['data', 'version'])\n",
            "dict_keys(['title', 'paragraphs'])\n",
            "University_of_Notre_Dame\n",
            "Beyoncé\n"
          ],
          "name": "stdout"
        }
      ]
    },
    {
      "cell_type": "code",
      "metadata": {
        "colab": {
          "base_uri": "https://localhost:8080/"
        },
        "id": "2ZiT_Orho5up",
        "outputId": "3bac0b3c-61b6-414a-df54-40552490d375"
      },
      "source": [
        "print(raw_train_data['data'][3]['paragraphs'][0].keys())"
      ],
      "execution_count": 5,
      "outputs": [
        {
          "output_type": "stream",
          "text": [
            "dict_keys(['context', 'qas'])\n"
          ],
          "name": "stdout"
        }
      ]
    },
    {
      "cell_type": "code",
      "metadata": {
        "colab": {
          "base_uri": "https://localhost:8080/"
        },
        "id": "tAz7uKB1rpd2",
        "outputId": "2c0ba343-94ae-4b64-c4e2-b005be290033"
      },
      "source": [
        "print(raw_train_data['data'][0]['paragraphs'][0]['qas'])"
      ],
      "execution_count": 6,
      "outputs": [
        {
          "output_type": "stream",
          "text": [
            "[{'answers': [{'answer_start': 515, 'text': 'Saint Bernadette Soubirous'}], 'question': 'To whom did the Virgin Mary allegedly appear in 1858 in Lourdes France?', 'id': '5733be284776f41900661182'}, {'answers': [{'answer_start': 188, 'text': 'a copper statue of Christ'}], 'question': 'What is in front of the Notre Dame Main Building?', 'id': '5733be284776f4190066117f'}, {'answers': [{'answer_start': 279, 'text': 'the Main Building'}], 'question': 'The Basilica of the Sacred heart at Notre Dame is beside to which structure?', 'id': '5733be284776f41900661180'}, {'answers': [{'answer_start': 381, 'text': 'a Marian place of prayer and reflection'}], 'question': 'What is the Grotto at Notre Dame?', 'id': '5733be284776f41900661181'}, {'answers': [{'answer_start': 92, 'text': 'a golden statue of the Virgin Mary'}], 'question': 'What sits on top of the Main Building at Notre Dame?', 'id': '5733be284776f4190066117e'}]\n"
          ],
          "name": "stdout"
        }
      ]
    },
    {
      "cell_type": "code",
      "metadata": {
        "id": "u-axDABlEPpa",
        "colab": {
          "base_uri": "https://localhost:8080/",
          "height": 219
        },
        "outputId": "6d9b77a8-2d0f-49dc-b6d6-813b433b0b2d"
      },
      "source": [
        "print(raw_train_data['data'][0]['title'])\n",
        "print(raw_train_data.keys())\n",
        "print(raw_train_data['data'][0].keys())\n",
        "print(raw_train_data['data'][0]['paragraphs'][0]['qas'][1]['answers'][0]['text'])\n",
        "x = (raw_train_data['data'][0]['paragraphs'][0]['context'])\n",
        "x"
      ],
      "execution_count": 7,
      "outputs": [
        {
          "output_type": "stream",
          "text": [
            "University_of_Notre_Dame\n",
            "dict_keys(['data', 'version'])\n",
            "dict_keys(['title', 'paragraphs'])\n",
            "a copper statue of Christ\n"
          ],
          "name": "stdout"
        },
        {
          "output_type": "execute_result",
          "data": {
            "application/vnd.google.colaboratory.intrinsic+json": {
              "type": "string"
            },
            "text/plain": [
              "'Architecturally, the school has a Catholic character. Atop the Main Building\\'s gold dome is a golden statue of the Virgin Mary. Immediately in front of the Main Building and facing it, is a copper statue of Christ with arms upraised with the legend \"Venite Ad Me Omnes\". Next to the Main Building is the Basilica of the Sacred Heart. Immediately behind the basilica is the Grotto, a Marian place of prayer and reflection. It is a replica of the grotto at Lourdes, France where the Virgin Mary reputedly appeared to Saint Bernadette Soubirous in 1858. At the end of the main drive (and in a direct line that connects through 3 statues and the Gold Dome), is a simple, modern stone statue of Mary.'"
            ]
          },
          "metadata": {
            "tags": []
          },
          "execution_count": 7
        }
      ]
    },
    {
      "cell_type": "code",
      "metadata": {
        "colab": {
          "base_uri": "https://localhost:8080/"
        },
        "id": "GobBz7PVLnBc",
        "outputId": "71cb6da8-c39b-4a09-eb00-03ea2029ffe0"
      },
      "source": [
        "raw_train_data['data'][0]['paragraphs'][0]['qas'][0]['answers'][0]['answer_start']"
      ],
      "execution_count": 8,
      "outputs": [
        {
          "output_type": "execute_result",
          "data": {
            "text/plain": [
              "515"
            ]
          },
          "metadata": {
            "tags": []
          },
          "execution_count": 8
        }
      ]
    },
    {
      "cell_type": "code",
      "metadata": {
        "id": "tJIaUhHWy5Zc"
      },
      "source": [
        "bert_preprocess = 'https://tfhub.dev/tensorflow/bert_en_uncased_preprocess/3'\n",
        "\n",
        "bert_model = 'https://tfhub.dev/tensorflow/small_bert/bert_en_uncased_L-4_H-512_A-8/1'\n",
        "\n",
        "bert_preprocess_layer = hub.load(bert_preprocess)\n",
        "bert_layer = hub.KerasLayer(bert_model,trainable=True)"
      ],
      "execution_count": 9,
      "outputs": []
    },
    {
      "cell_type": "code",
      "metadata": {
        "id": "8b_3Q4WXvI1X"
      },
      "source": [
        "def fun(x):\n",
        "  return (bert_preprocess_layer.tokenize([str(x)]))"
      ],
      "execution_count": 10,
      "outputs": []
    },
    {
      "cell_type": "code",
      "metadata": {
        "colab": {
          "base_uri": "https://localhost:8080/"
        },
        "id": "ep9tlFEd4rsw",
        "outputId": "645bafdd-b402-4218-b7bf-c3b91d4c77a0"
      },
      "source": [
        "den = ['hi']\n",
        "fun(den)"
      ],
      "execution_count": 11,
      "outputs": [
        {
          "output_type": "execute_result",
          "data": {
            "text/plain": [
              "<tf.RaggedTensor [[[1031], [1005], [7632], [1005], [1033]]]>"
            ]
          },
          "metadata": {
            "tags": []
          },
          "execution_count": 11
        }
      ]
    },
    {
      "cell_type": "code",
      "metadata": {
        "id": "kRU6qYM6w6vl"
      },
      "source": [
        "def text_maker (data):\n",
        "  squad_examples = []\n",
        "  full_context = []\n",
        "  full_question = []\n",
        "  full_answer = []\n",
        "  title = []\n",
        "  starting_index = []\n",
        "  context_question =[]\n",
        "  new_line =[]\n",
        "  ending_index = []\n",
        "\n",
        "  for item in data[\"data\"]:\n",
        "   \n",
        "      title.append(item['title'])\n",
        "      for para in item[\"paragraphs\"]:\n",
        "          context = para[\"context\"]\n",
        "          # full_context.append(context)\n",
        "\n",
        "          \n",
        "\n",
        "          for qa in para[\"qas\"]:\n",
        "              question = qa[\"question\"]\n",
        "              x = np.hstack((context,question))\n",
        "              new_line.append(x)\n",
        "\n",
        "              \n",
        "\n",
        "              if \"answers\" in qa:\n",
        "                  answer_text = qa[\"answers\"][0][\"text\"]\n",
        "                  full_answer.append(answer_text)\n",
        "                  all_answers = [_[\"text\"] for _ in qa[\"answers\"]]\n",
        "                  start_char_idx = qa[\"answers\"][0][\"answer_start\"]\n",
        "                  end_char_idx = start_char_idx + len(answer_text)\n",
        "                  # print(start_char_idx)\n",
        "                  starting_index.append(start_char_idx)\n",
        "                  ending_index.append(end_char_idx)\n",
        "                # squad_eg = Sample(question, context, start_char_idx, answer_text, all_answers)\n",
        "            # else:\n",
        "                # squad_eg = Sample(question, context)\n",
        "            # squad_eg.preprocess()\n",
        "            # squad_examples.append(squad_eg)\n",
        "  x  = pd.DataFrame(new_line)\n",
        "  # x.rename(columns ={0:\"context\", 1:\"questions\"})\n",
        "  x['start_index'] = starting_index\n",
        "  x['end_index'] = ending_index\n",
        "  return (x)"
      ],
      "execution_count": 12,
      "outputs": []
    },
    {
      "cell_type": "code",
      "metadata": {
        "id": "hIvhUsvh_YyU"
      },
      "source": [
        "col1 = ['I live in london','weather is nice']\n",
        "col2 = ['I am old.', 'my name is john']"
      ],
      "execution_count": 13,
      "outputs": []
    },
    {
      "cell_type": "code",
      "metadata": {
        "id": "Y2-hh7Ee_Yvc"
      },
      "source": [
        "train_data= (text_maker(raw_train_data)).rename(columns ={0:\"context\", 1:\"questions\"})\n",
        "test_data = (text_maker(raw_eval_data)).rename(columns ={0:\"context\", 1:\"questions\"})\n",
        "# all_data[0].head()"
      ],
      "execution_count": 14,
      "outputs": []
    },
    {
      "cell_type": "code",
      "metadata": {
        "id": "i2mbFYtwMs3L",
        "colab": {
          "base_uri": "https://localhost:8080/",
          "height": 196
        },
        "outputId": "3129c56b-ca7a-4019-af3b-3e70c75d39a1"
      },
      "source": [
        "train_data.head(3)"
      ],
      "execution_count": null,
      "outputs": [
        {
          "output_type": "execute_result",
          "data": {
            "text/html": [
              "<div>\n",
              "<style scoped>\n",
              "    .dataframe tbody tr th:only-of-type {\n",
              "        vertical-align: middle;\n",
              "    }\n",
              "\n",
              "    .dataframe tbody tr th {\n",
              "        vertical-align: top;\n",
              "    }\n",
              "\n",
              "    .dataframe thead th {\n",
              "        text-align: right;\n",
              "    }\n",
              "</style>\n",
              "<table border=\"1\" class=\"dataframe\">\n",
              "  <thead>\n",
              "    <tr style=\"text-align: right;\">\n",
              "      <th></th>\n",
              "      <th>context</th>\n",
              "      <th>questions</th>\n",
              "      <th>start_index</th>\n",
              "      <th>end_index</th>\n",
              "    </tr>\n",
              "  </thead>\n",
              "  <tbody>\n",
              "    <tr>\n",
              "      <th>0</th>\n",
              "      <td>Architecturally, the school has a Catholic cha...</td>\n",
              "      <td>To whom did the Virgin Mary allegedly appear i...</td>\n",
              "      <td>515</td>\n",
              "      <td>541</td>\n",
              "    </tr>\n",
              "    <tr>\n",
              "      <th>1</th>\n",
              "      <td>Architecturally, the school has a Catholic cha...</td>\n",
              "      <td>What is in front of the Notre Dame Main Building?</td>\n",
              "      <td>188</td>\n",
              "      <td>213</td>\n",
              "    </tr>\n",
              "    <tr>\n",
              "      <th>2</th>\n",
              "      <td>Architecturally, the school has a Catholic cha...</td>\n",
              "      <td>The Basilica of the Sacred heart at Notre Dame...</td>\n",
              "      <td>279</td>\n",
              "      <td>296</td>\n",
              "    </tr>\n",
              "  </tbody>\n",
              "</table>\n",
              "</div>"
            ],
            "text/plain": [
              "                                             context  ... end_index\n",
              "0  Architecturally, the school has a Catholic cha...  ...       541\n",
              "1  Architecturally, the school has a Catholic cha...  ...       213\n",
              "2  Architecturally, the school has a Catholic cha...  ...       296\n",
              "\n",
              "[3 rows x 4 columns]"
            ]
          },
          "metadata": {
            "tags": []
          },
          "execution_count": 57
        }
      ]
    },
    {
      "cell_type": "code",
      "metadata": {
        "id": "73R9_wgyKJ1e",
        "colab": {
          "base_uri": "https://localhost:8080/",
          "height": 196
        },
        "outputId": "50e47b09-9085-4e85-df88-5b155d3d828e"
      },
      "source": [
        "test_data.head(3)"
      ],
      "execution_count": null,
      "outputs": [
        {
          "output_type": "execute_result",
          "data": {
            "text/html": [
              "<div>\n",
              "<style scoped>\n",
              "    .dataframe tbody tr th:only-of-type {\n",
              "        vertical-align: middle;\n",
              "    }\n",
              "\n",
              "    .dataframe tbody tr th {\n",
              "        vertical-align: top;\n",
              "    }\n",
              "\n",
              "    .dataframe thead th {\n",
              "        text-align: right;\n",
              "    }\n",
              "</style>\n",
              "<table border=\"1\" class=\"dataframe\">\n",
              "  <thead>\n",
              "    <tr style=\"text-align: right;\">\n",
              "      <th></th>\n",
              "      <th>context</th>\n",
              "      <th>questions</th>\n",
              "      <th>start_index</th>\n",
              "      <th>end_index</th>\n",
              "    </tr>\n",
              "  </thead>\n",
              "  <tbody>\n",
              "    <tr>\n",
              "      <th>0</th>\n",
              "      <td>Super Bowl 50 was an American football game to...</td>\n",
              "      <td>Which NFL team represented the AFC at Super Bo...</td>\n",
              "      <td>177</td>\n",
              "      <td>191</td>\n",
              "    </tr>\n",
              "    <tr>\n",
              "      <th>1</th>\n",
              "      <td>Super Bowl 50 was an American football game to...</td>\n",
              "      <td>Which NFL team represented the NFC at Super Bo...</td>\n",
              "      <td>249</td>\n",
              "      <td>266</td>\n",
              "    </tr>\n",
              "    <tr>\n",
              "      <th>2</th>\n",
              "      <td>Super Bowl 50 was an American football game to...</td>\n",
              "      <td>Where did Super Bowl 50 take place?</td>\n",
              "      <td>403</td>\n",
              "      <td>426</td>\n",
              "    </tr>\n",
              "  </tbody>\n",
              "</table>\n",
              "</div>"
            ],
            "text/plain": [
              "                                             context  ... end_index\n",
              "0  Super Bowl 50 was an American football game to...  ...       191\n",
              "1  Super Bowl 50 was an American football game to...  ...       266\n",
              "2  Super Bowl 50 was an American football game to...  ...       426\n",
              "\n",
              "[3 rows x 4 columns]"
            ]
          },
          "metadata": {
            "tags": []
          },
          "execution_count": 58
        }
      ]
    },
    {
      "cell_type": "code",
      "metadata": {
        "id": "2zyhIEUCeRdY"
      },
      "source": [
        "def bert_tokenizer(x):\n",
        "  return (bert_preprocess_layer.tokenize([x]))\n",
        "\n",
        "def joiner(x,y):\n",
        "  x_tokens = bert_tokenizer(x)\n",
        "  y_tokens = bert_tokenizer(y)\n",
        "  return (bert_preprocess_layer.bert_pack_inputs([x_tokens,y_tokens]))"
      ],
      "execution_count": null,
      "outputs": []
    },
    {
      "cell_type": "code",
      "metadata": {
        "id": "Jj_J9fmyQH5x"
      },
      "source": [
        "b = ('nice weather!')\n",
        "a = ('I am playing a game')\n"
      ],
      "execution_count": 17,
      "outputs": []
    },
    {
      "cell_type": "code",
      "metadata": {
        "id": "Tjwt5IkhQH2K"
      },
      "source": [
        "# input_layer = keras.Input(shape = ())\n",
        "# bert_layer_nn1 , bert_layer_nn2,bert_layer_nn3,bert_layer_nn4  = bert_layer(a_and_b)\n",
        "# end_layer = layers.Dense(1)(tf.constant(bert_layer_nn1))\n",
        "# model_nn = keras.Model(inputs=input_layer, output = end_layer)\n",
        "# loss = keras.losses.SparseCategoricalCrossentropy(from_logits=False)\n",
        "# optimizer = keras.optimizers.Adam(lr=1e-5, beta_1=0.9, beta_2=0.98, epsilon=1e-9)\n",
        "# model.compile(optimizer=optimizer, loss=[loss, loss])\n",
        "# model.summary()\n",
        "# model.fit([a,b], y_deneme, epochs=2, batch_size=8)\n"
      ],
      "execution_count": 18,
      "outputs": []
    },
    {
      "cell_type": "code",
      "metadata": {
        "id": "ar_rZcLYTdJu"
      },
      "source": [
        ""
      ],
      "execution_count": 18,
      "outputs": []
    },
    {
      "cell_type": "code",
      "metadata": {
        "id": "uAoj5mFb0uYY"
      },
      "source": [
        ""
      ],
      "execution_count": 18,
      "outputs": []
    },
    {
      "cell_type": "code",
      "metadata": {
        "id": "14ngzdjpHLx1"
      },
      "source": [
        ""
      ],
      "execution_count": null,
      "outputs": []
    },
    {
      "cell_type": "code",
      "metadata": {
        "id": "tzvATeAX-318"
      },
      "source": [
        ""
      ],
      "execution_count": null,
      "outputs": []
    },
    {
      "cell_type": "code",
      "metadata": {
        "id": "He-c2Y4GxHNr"
      },
      "source": [
        "\n"
      ],
      "execution_count": null,
      "outputs": []
    },
    {
      "cell_type": "code",
      "metadata": {
        "id": "8rouFw25y8Qb"
      },
      "source": [
        ""
      ],
      "execution_count": null,
      "outputs": []
    },
    {
      "cell_type": "code",
      "metadata": {
        "id": "zloZ7VaZMPUE"
      },
      "source": [
        ""
      ],
      "execution_count": null,
      "outputs": []
    },
    {
      "cell_type": "code",
      "metadata": {
        "id": "oDtbzpfp3puq"
      },
      "source": [
        ""
      ],
      "execution_count": null,
      "outputs": []
    },
    {
      "cell_type": "code",
      "metadata": {
        "id": "rawCGNQ-8GUh"
      },
      "source": [
        ""
      ],
      "execution_count": null,
      "outputs": []
    },
    {
      "cell_type": "code",
      "metadata": {
        "id": "IHxpzNrKTei5"
      },
      "source": [
        ""
      ],
      "execution_count": null,
      "outputs": []
    },
    {
      "cell_type": "code",
      "metadata": {
        "id": "lbkhX9ytzHqF"
      },
      "source": [
        ""
      ],
      "execution_count": null,
      "outputs": []
    },
    {
      "cell_type": "code",
      "metadata": {
        "id": "UmenEbhi1n7Y"
      },
      "source": [
        ""
      ],
      "execution_count": null,
      "outputs": []
    },
    {
      "cell_type": "code",
      "metadata": {
        "id": "ULtbQBdMXcGg"
      },
      "source": [
        ""
      ],
      "execution_count": null,
      "outputs": []
    },
    {
      "cell_type": "code",
      "metadata": {
        "id": "sBTBTYVHyXt5"
      },
      "source": [
        ""
      ],
      "execution_count": null,
      "outputs": []
    },
    {
      "cell_type": "code",
      "metadata": {
        "id": "aCdPIRI_yhl1"
      },
      "source": [
        ""
      ],
      "execution_count": null,
      "outputs": []
    },
    {
      "cell_type": "code",
      "metadata": {
        "id": "2jb2OnXnypP2"
      },
      "source": [
        ""
      ],
      "execution_count": null,
      "outputs": []
    },
    {
      "cell_type": "code",
      "metadata": {
        "id": "3sosHxiRzG6C"
      },
      "source": [
        ""
      ],
      "execution_count": null,
      "outputs": []
    },
    {
      "cell_type": "code",
      "metadata": {
        "id": "tQRj7JDM0cMd"
      },
      "source": [
        ""
      ],
      "execution_count": null,
      "outputs": []
    },
    {
      "cell_type": "code",
      "metadata": {
        "id": "shRQRr4G0EvU"
      },
      "source": [
        ""
      ],
      "execution_count": null,
      "outputs": []
    },
    {
      "cell_type": "code",
      "metadata": {
        "id": "lTp57X0H5bvc"
      },
      "source": [
        ""
      ],
      "execution_count": null,
      "outputs": []
    },
    {
      "cell_type": "code",
      "metadata": {
        "id": "D2U0nXo_5iaR"
      },
      "source": [
        ""
      ],
      "execution_count": null,
      "outputs": []
    },
    {
      "cell_type": "code",
      "metadata": {
        "id": "clzangzr7o8i"
      },
      "source": [
        ""
      ],
      "execution_count": null,
      "outputs": []
    }
  ]
}