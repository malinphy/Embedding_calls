{
  "nbformat": 4,
  "nbformat_minor": 0,
  "metadata": {
    "colab": {
      "name": "QAS_BERT_Tensorflow.ipynb",
      "provenance": [],
      "collapsed_sections": [],
      "authorship_tag": "ABX9TyPxO5eVAWk6iLg/7uP19qqr",
      "include_colab_link": true
    },
    "kernelspec": {
      "display_name": "Python 3",
      "name": "python3"
    },
    "language_info": {
      "name": "python"
    }
  },
  "cells": [
    {
      "cell_type": "markdown",
      "metadata": {
        "id": "view-in-github",
        "colab_type": "text"
      },
      "source": [
        "<a href=\"https://colab.research.google.com/github/malinphy/Embedding_calls/blob/main/QAS_BERT_Tensorflow.ipynb\" target=\"_parent\"><img src=\"https://colab.research.google.com/assets/colab-badge.svg\" alt=\"Open In Colab\"/></a>"
      ]
    },
    {
      "cell_type": "code",
      "metadata": {
        "id": "rtgU0r1vmpYo"
      },
      "source": [
        "import numpy as np \n",
        "import pandas as pd \n",
        "import os \n",
        "import sys \n",
        "import json\n",
        "from platform import python_version\n",
        "\n",
        "import tensorflow as tf \n",
        "from tensorflow import keras \n",
        "from tensorflow.keras import layers\n",
        "from tensorflow.keras.layers import Embedding,Dense,MultiHeadAttention\n",
        "\n",
        "import tensorflow_hub as hub\n",
        "!pip install -q tensorflow-text\n",
        "\n",
        "import tensorflow_text as text"
      ],
      "execution_count": 1,
      "outputs": []
    },
    {
      "cell_type": "code",
      "metadata": {
        "colab": {
          "base_uri": "https://localhost:8080/"
        },
        "id": "FSd52L5Im4lv",
        "outputId": "886a565b-04f6-4e3c-d3c4-76045af89c71"
      },
      "source": [
        "print('Python Version : ' ,python_version())\n",
        "print('tensorflow version : ', tf.__version__)\n",
        "print('pandas version : ', pd.__version__)\n",
        "print('numpy version : ', np.__version__)\n",
        "print('tf_hub version : ', hub.__version__)\n"
      ],
      "execution_count": 2,
      "outputs": [
        {
          "output_type": "stream",
          "text": [
            "Python Version :  3.7.10\n",
            "tensorflow version :  2.4.1\n",
            "pandas version :  1.1.5\n",
            "numpy version :  1.19.5\n",
            "tf_hub version :  0.11.0\n"
          ],
          "name": "stdout"
        }
      ]
    },
    {
      "cell_type": "code",
      "metadata": {
        "id": "LmBrG2h5nNiH"
      },
      "source": [
        "train_path = keras.utils.get_file(\"train.json\", \"https://rajpurkar.github.io/SQuAD-explorer/dataset/train-v1.1.json\")\n",
        "eval_path = keras.utils.get_file(\"eval.json\", \"https://rajpurkar.github.io/SQuAD-explorer/dataset/dev-v1.1.json\")\n",
        "with open(train_path) as f: raw_train_data = json.load(f)\n",
        "with open(eval_path) as f: raw_eval_data = json.load(f)\n",
        "# max_seq_length = 384"
      ],
      "execution_count": 3,
      "outputs": []
    },
    {
      "cell_type": "code",
      "metadata": {
        "colab": {
          "base_uri": "https://localhost:8080/"
        },
        "id": "1TEzyk13o3m_",
        "outputId": "612ca67a-ed56-4ec6-ce82-89be6c6aa68d"
      },
      "source": [
        "print(raw_train_data.keys())\n",
        "print(raw_train_data['data'][0].keys())\n",
        "print(raw_train_data['data'][0]['title'][0:])\n",
        "print(raw_train_data['data'][1]['title'][0:])"
      ],
      "execution_count": 4,
      "outputs": [
        {
          "output_type": "stream",
          "text": [
            "dict_keys(['data', 'version'])\n",
            "dict_keys(['title', 'paragraphs'])\n",
            "University_of_Notre_Dame\n",
            "Beyoncé\n"
          ],
          "name": "stdout"
        }
      ]
    },
    {
      "cell_type": "code",
      "metadata": {
        "colab": {
          "base_uri": "https://localhost:8080/"
        },
        "id": "2ZiT_Orho5up",
        "outputId": "9f109210-192b-4eb6-80ed-063f5a56d630"
      },
      "source": [
        "print(raw_train_data['data'][3]['paragraphs'][0].keys())"
      ],
      "execution_count": 5,
      "outputs": [
        {
          "output_type": "stream",
          "text": [
            "dict_keys(['context', 'qas'])\n"
          ],
          "name": "stdout"
        }
      ]
    },
    {
      "cell_type": "code",
      "metadata": {
        "colab": {
          "base_uri": "https://localhost:8080/"
        },
        "id": "tAz7uKB1rpd2",
        "outputId": "d79a1378-6ba0-4a3b-e14b-5b824f966dff"
      },
      "source": [
        "print(raw_train_data['data'][0]['paragraphs'][0]['qas'])"
      ],
      "execution_count": 6,
      "outputs": [
        {
          "output_type": "stream",
          "text": [
            "[{'answers': [{'answer_start': 515, 'text': 'Saint Bernadette Soubirous'}], 'question': 'To whom did the Virgin Mary allegedly appear in 1858 in Lourdes France?', 'id': '5733be284776f41900661182'}, {'answers': [{'answer_start': 188, 'text': 'a copper statue of Christ'}], 'question': 'What is in front of the Notre Dame Main Building?', 'id': '5733be284776f4190066117f'}, {'answers': [{'answer_start': 279, 'text': 'the Main Building'}], 'question': 'The Basilica of the Sacred heart at Notre Dame is beside to which structure?', 'id': '5733be284776f41900661180'}, {'answers': [{'answer_start': 381, 'text': 'a Marian place of prayer and reflection'}], 'question': 'What is the Grotto at Notre Dame?', 'id': '5733be284776f41900661181'}, {'answers': [{'answer_start': 92, 'text': 'a golden statue of the Virgin Mary'}], 'question': 'What sits on top of the Main Building at Notre Dame?', 'id': '5733be284776f4190066117e'}]\n"
          ],
          "name": "stdout"
        }
      ]
    },
    {
      "cell_type": "code",
      "metadata": {
        "id": "u-axDABlEPpa",
        "colab": {
          "base_uri": "https://localhost:8080/",
          "height": 219
        },
        "outputId": "6d994899-8140-438f-d4bc-da0f66dd54d8"
      },
      "source": [
        "print(raw_train_data['data'][0]['title'])\n",
        "print(raw_train_data.keys())\n",
        "print(raw_train_data['data'][0].keys())\n",
        "print(raw_train_data['data'][0]['paragraphs'][0]['qas'][1]['answers'][0]['text'])\n",
        "x = (raw_train_data['data'][0]['paragraphs'][0]['context'])\n",
        "x"
      ],
      "execution_count": 7,
      "outputs": [
        {
          "output_type": "stream",
          "text": [
            "University_of_Notre_Dame\n",
            "dict_keys(['data', 'version'])\n",
            "dict_keys(['title', 'paragraphs'])\n",
            "a copper statue of Christ\n"
          ],
          "name": "stdout"
        },
        {
          "output_type": "execute_result",
          "data": {
            "application/vnd.google.colaboratory.intrinsic+json": {
              "type": "string"
            },
            "text/plain": [
              "'Architecturally, the school has a Catholic character. Atop the Main Building\\'s gold dome is a golden statue of the Virgin Mary. Immediately in front of the Main Building and facing it, is a copper statue of Christ with arms upraised with the legend \"Venite Ad Me Omnes\". Next to the Main Building is the Basilica of the Sacred Heart. Immediately behind the basilica is the Grotto, a Marian place of prayer and reflection. It is a replica of the grotto at Lourdes, France where the Virgin Mary reputedly appeared to Saint Bernadette Soubirous in 1858. At the end of the main drive (and in a direct line that connects through 3 statues and the Gold Dome), is a simple, modern stone statue of Mary.'"
            ]
          },
          "metadata": {
            "tags": []
          },
          "execution_count": 7
        }
      ]
    },
    {
      "cell_type": "code",
      "metadata": {
        "colab": {
          "base_uri": "https://localhost:8080/"
        },
        "id": "GobBz7PVLnBc",
        "outputId": "960052a6-0cf0-4b41-a6d2-a1b6cc0d94e0"
      },
      "source": [
        "raw_train_data['data'][0]['paragraphs'][0]['qas'][0]['answers'][0]['answer_start']"
      ],
      "execution_count": 8,
      "outputs": [
        {
          "output_type": "execute_result",
          "data": {
            "text/plain": [
              "515"
            ]
          },
          "metadata": {
            "tags": []
          },
          "execution_count": 8
        }
      ]
    },
    {
      "cell_type": "code",
      "metadata": {
        "id": "tJIaUhHWy5Zc"
      },
      "source": [
        "bert_preprocess = 'https://tfhub.dev/tensorflow/bert_en_uncased_preprocess/3'\n",
        "\n",
        "bert_model = 'https://tfhub.dev/tensorflow/small_bert/bert_en_uncased_L-4_H-512_A-8/1'\n",
        "\n",
        "bert_preprocess_layer = hub.load(bert_preprocess)\n",
        "bert_layer = hub.KerasLayer(bert_model,trainable=True)"
      ],
      "execution_count": 9,
      "outputs": []
    },
    {
      "cell_type": "code",
      "metadata": {
        "id": "8b_3Q4WXvI1X"
      },
      "source": [
        "def fun(x):\n",
        "  return (bert_preprocess_layer.tokenize([str(x)]))"
      ],
      "execution_count": 10,
      "outputs": []
    },
    {
      "cell_type": "code",
      "metadata": {
        "colab": {
          "base_uri": "https://localhost:8080/"
        },
        "id": "ep9tlFEd4rsw",
        "outputId": "db8f37f3-d33c-49b2-91f9-b1b107d8b424"
      },
      "source": [
        "den = ['hi']\n",
        "fun(den)"
      ],
      "execution_count": 11,
      "outputs": [
        {
          "output_type": "execute_result",
          "data": {
            "text/plain": [
              "<tf.RaggedTensor [[[1031], [1005], [7632], [1005], [1033]]]>"
            ]
          },
          "metadata": {
            "tags": []
          },
          "execution_count": 11
        }
      ]
    },
    {
      "cell_type": "code",
      "metadata": {
        "id": "kRU6qYM6w6vl"
      },
      "source": [
        "def text_maker (data):\n",
        "  squad_examples = []\n",
        "  full_context = []\n",
        "  full_question = []\n",
        "  full_answer = []\n",
        "  title = []\n",
        "  starting_index = []\n",
        "  context_question =[]\n",
        "  new_line =[]\n",
        "  ending_index = []\n",
        "\n",
        "  for item in data[\"data\"]:\n",
        "   \n",
        "      title.append(item['title'])\n",
        "      for para in item[\"paragraphs\"]:\n",
        "          context = para[\"context\"]\n",
        "          # full_context.append(context)\n",
        "\n",
        "          \n",
        "\n",
        "          for qa in para[\"qas\"]:\n",
        "              question = qa[\"question\"]\n",
        "              x = np.hstack((context,question))\n",
        "              new_line.append(x)\n",
        "\n",
        "              \n",
        "\n",
        "              if \"answers\" in qa:\n",
        "                  answer_text = qa[\"answers\"][0][\"text\"]\n",
        "                  full_answer.append(answer_text)\n",
        "                  all_answers = [_[\"text\"] for _ in qa[\"answers\"]]\n",
        "                  start_char_idx = qa[\"answers\"][0][\"answer_start\"]\n",
        "                  end_char_idx = start_char_idx + len(answer_text)\n",
        "                  # print(start_char_idx)\n",
        "                  starting_index.append(start_char_idx)\n",
        "                  ending_index.append(end_char_idx)\n",
        "                # squad_eg = Sample(question, context, start_char_idx, answer_text, all_answers)\n",
        "            # else:\n",
        "                # squad_eg = Sample(question, context)\n",
        "            # squad_eg.preprocess()\n",
        "            # squad_examples.append(squad_eg)\n",
        "  x  = pd.DataFrame(new_line)\n",
        "  # x.rename(columns ={0:\"context\", 1:\"questions\"})\n",
        "  x['start_index'] = starting_index\n",
        "  x['end_index'] = ending_index\n",
        "  \n",
        "  return (x)"
      ],
      "execution_count": 12,
      "outputs": []
    },
    {
      "cell_type": "code",
      "metadata": {
        "id": "hIvhUsvh_YyU"
      },
      "source": [
        "col1 = ['I live in london','weather is nice']\n",
        "col2 = ['I am old.', 'my name is john']"
      ],
      "execution_count": 13,
      "outputs": []
    },
    {
      "cell_type": "code",
      "metadata": {
        "id": "Y2-hh7Ee_Yvc"
      },
      "source": [
        "train_data= (text_maker(raw_train_data)).rename(columns ={0:\"context\", 1:\"questions\"})\n",
        "test_data = (text_maker(raw_eval_data)).rename(columns ={0:\"context\", 1:\"questions\"})\n",
        "# all_data[0].head()"
      ],
      "execution_count": 14,
      "outputs": []
    },
    {
      "cell_type": "code",
      "metadata": {
        "id": "PmYfUigmIRtx"
      },
      "source": [
        "slicer = []\n",
        "for i in range(len(train_data)):\n",
        "  slicer.append('SLI')\n",
        "\n",
        "train_data['slicer']=slicer"
      ],
      "execution_count": 15,
      "outputs": []
    },
    {
      "cell_type": "code",
      "metadata": {
        "id": "i2mbFYtwMs3L",
        "colab": {
          "base_uri": "https://localhost:8080/",
          "height": 196
        },
        "outputId": "47162806-71a4-45ac-a496-332d8a79708f"
      },
      "source": [
        "train_data.head(3)"
      ],
      "execution_count": 16,
      "outputs": [
        {
          "output_type": "execute_result",
          "data": {
            "text/html": [
              "<div>\n",
              "<style scoped>\n",
              "    .dataframe tbody tr th:only-of-type {\n",
              "        vertical-align: middle;\n",
              "    }\n",
              "\n",
              "    .dataframe tbody tr th {\n",
              "        vertical-align: top;\n",
              "    }\n",
              "\n",
              "    .dataframe thead th {\n",
              "        text-align: right;\n",
              "    }\n",
              "</style>\n",
              "<table border=\"1\" class=\"dataframe\">\n",
              "  <thead>\n",
              "    <tr style=\"text-align: right;\">\n",
              "      <th></th>\n",
              "      <th>context</th>\n",
              "      <th>questions</th>\n",
              "      <th>start_index</th>\n",
              "      <th>end_index</th>\n",
              "      <th>slicer</th>\n",
              "    </tr>\n",
              "  </thead>\n",
              "  <tbody>\n",
              "    <tr>\n",
              "      <th>0</th>\n",
              "      <td>Architecturally, the school has a Catholic cha...</td>\n",
              "      <td>To whom did the Virgin Mary allegedly appear i...</td>\n",
              "      <td>515</td>\n",
              "      <td>541</td>\n",
              "      <td>SLI</td>\n",
              "    </tr>\n",
              "    <tr>\n",
              "      <th>1</th>\n",
              "      <td>Architecturally, the school has a Catholic cha...</td>\n",
              "      <td>What is in front of the Notre Dame Main Building?</td>\n",
              "      <td>188</td>\n",
              "      <td>213</td>\n",
              "      <td>SLI</td>\n",
              "    </tr>\n",
              "    <tr>\n",
              "      <th>2</th>\n",
              "      <td>Architecturally, the school has a Catholic cha...</td>\n",
              "      <td>The Basilica of the Sacred heart at Notre Dame...</td>\n",
              "      <td>279</td>\n",
              "      <td>296</td>\n",
              "      <td>SLI</td>\n",
              "    </tr>\n",
              "  </tbody>\n",
              "</table>\n",
              "</div>"
            ],
            "text/plain": [
              "                                             context  ... slicer\n",
              "0  Architecturally, the school has a Catholic cha...  ...    SLI\n",
              "1  Architecturally, the school has a Catholic cha...  ...    SLI\n",
              "2  Architecturally, the school has a Catholic cha...  ...    SLI\n",
              "\n",
              "[3 rows x 5 columns]"
            ]
          },
          "metadata": {
            "tags": []
          },
          "execution_count": 16
        }
      ]
    },
    {
      "cell_type": "code",
      "metadata": {
        "id": "73R9_wgyKJ1e",
        "colab": {
          "base_uri": "https://localhost:8080/",
          "height": 196
        },
        "outputId": "0c077a45-07a0-472e-f52b-50f5dd09054f"
      },
      "source": [
        "test_data.head(3)"
      ],
      "execution_count": 17,
      "outputs": [
        {
          "output_type": "execute_result",
          "data": {
            "text/html": [
              "<div>\n",
              "<style scoped>\n",
              "    .dataframe tbody tr th:only-of-type {\n",
              "        vertical-align: middle;\n",
              "    }\n",
              "\n",
              "    .dataframe tbody tr th {\n",
              "        vertical-align: top;\n",
              "    }\n",
              "\n",
              "    .dataframe thead th {\n",
              "        text-align: right;\n",
              "    }\n",
              "</style>\n",
              "<table border=\"1\" class=\"dataframe\">\n",
              "  <thead>\n",
              "    <tr style=\"text-align: right;\">\n",
              "      <th></th>\n",
              "      <th>context</th>\n",
              "      <th>questions</th>\n",
              "      <th>start_index</th>\n",
              "      <th>end_index</th>\n",
              "    </tr>\n",
              "  </thead>\n",
              "  <tbody>\n",
              "    <tr>\n",
              "      <th>0</th>\n",
              "      <td>Super Bowl 50 was an American football game to...</td>\n",
              "      <td>Which NFL team represented the AFC at Super Bo...</td>\n",
              "      <td>177</td>\n",
              "      <td>191</td>\n",
              "    </tr>\n",
              "    <tr>\n",
              "      <th>1</th>\n",
              "      <td>Super Bowl 50 was an American football game to...</td>\n",
              "      <td>Which NFL team represented the NFC at Super Bo...</td>\n",
              "      <td>249</td>\n",
              "      <td>266</td>\n",
              "    </tr>\n",
              "    <tr>\n",
              "      <th>2</th>\n",
              "      <td>Super Bowl 50 was an American football game to...</td>\n",
              "      <td>Where did Super Bowl 50 take place?</td>\n",
              "      <td>403</td>\n",
              "      <td>426</td>\n",
              "    </tr>\n",
              "  </tbody>\n",
              "</table>\n",
              "</div>"
            ],
            "text/plain": [
              "                                             context  ... end_index\n",
              "0  Super Bowl 50 was an American football game to...  ...       191\n",
              "1  Super Bowl 50 was an American football game to...  ...       266\n",
              "2  Super Bowl 50 was an American football game to...  ...       426\n",
              "\n",
              "[3 rows x 4 columns]"
            ]
          },
          "metadata": {
            "tags": []
          },
          "execution_count": 17
        }
      ]
    },
    {
      "cell_type": "code",
      "metadata": {
        "id": "ar_rZcLYTdJu"
      },
      "source": [
        ""
      ],
      "execution_count": 17,
      "outputs": []
    },
    {
      "cell_type": "code",
      "metadata": {
        "id": "uAoj5mFb0uYY"
      },
      "source": [
        "def bert_tokenizer(x):\n",
        "  # a = x.numpy()\n",
        "  return (bert_preprocess_layer.tokenize(x))\n",
        "\n",
        "def bert_deneme(x):\n",
        "  return (print(x))"
      ],
      "execution_count": 18,
      "outputs": []
    },
    {
      "cell_type": "code",
      "metadata": {
        "colab": {
          "base_uri": "https://localhost:8080/"
        },
        "id": "KUaoiEA6cQ33",
        "outputId": "aeb7382c-ebcc-40ad-d242-a6ef9392ee1e"
      },
      "source": [
        "flag = ['i live in london']\n",
        "\n",
        "bert_tokenizer(flag)"
      ],
      "execution_count": 19,
      "outputs": [
        {
          "output_type": "execute_result",
          "data": {
            "text/plain": [
              "<tf.RaggedTensor [[[1045], [2444], [1999], [2414]]]>"
            ]
          },
          "metadata": {
            "tags": []
          },
          "execution_count": 19
        }
      ]
    },
    {
      "cell_type": "code",
      "metadata": {
        "id": "14ngzdjpHLx1"
      },
      "source": [
        "train_dataset_context=tf.data.Dataset.from_tensor_slices(train_data['context'])\n",
        "train_dataset_context =train_dataset_context.batch(30)\n",
        "train_dataset_ques = tf.data.Dataset.from_tensor_slices(train_data['questions'])\n",
        "train_dataset_ques = train_dataset_ques.batch(30)"
      ],
      "execution_count": 29,
      "outputs": []
    },
    {
      "cell_type": "code",
      "metadata": {
        "id": "tzvATeAX-318"
      },
      "source": [
        "train_question_tokens = []\n",
        "for i in train_dataset_ques:\n",
        "  train_question_tokens.append(bert_tokenizer(i))"
      ],
      "execution_count": 30,
      "outputs": []
    },
    {
      "cell_type": "code",
      "metadata": {
        "id": "He-c2Y4GxHNr"
      },
      "source": [
        "train_context_tokens = []\n",
        "for i in train_dataset_context:\n",
        "  train_context_tokens.append(bert_tokenizer(i))"
      ],
      "execution_count": 31,
      "outputs": []
    },
    {
      "cell_type": "code",
      "metadata": {
        "id": "8rouFw25y8Qb",
        "colab": {
          "base_uri": "https://localhost:8080/"
        },
        "outputId": "f59452dd-b072-4aff-a399-ce4122e17ad6"
      },
      "source": [
        "len(train_context_tokens[0].numpy())"
      ],
      "execution_count": 36,
      "outputs": [
        {
          "output_type": "stream",
          "text": [
            "/usr/local/lib/python3.7/dist-packages/tensorflow/python/ops/ragged/ragged_tensor.py:2012: VisibleDeprecationWarning: Creating an ndarray from ragged nested sequences (which is a list-or-tuple of lists-or-tuples-or ndarrays with different lengths or shapes) is deprecated. If you meant to do this, you must specify 'dtype=object' when creating the ndarray\n",
            "  return np.array(rows)\n"
          ],
          "name": "stderr"
        },
        {
          "output_type": "execute_result",
          "data": {
            "text/plain": [
              "30"
            ]
          },
          "metadata": {
            "tags": []
          },
          "execution_count": 36
        }
      ]
    },
    {
      "cell_type": "code",
      "metadata": {
        "id": "zloZ7VaZMPUE",
        "colab": {
          "base_uri": "https://localhost:8080/"
        },
        "outputId": "3388b2ad-4a18-4a33-c270-e2bbf7e933cb"
      },
      "source": [
        "train_question_tokens[0]"
      ],
      "execution_count": 34,
      "outputs": [
        {
          "output_type": "execute_result",
          "data": {
            "text/plain": [
              "<tf.RaggedTensor [[[2000], [3183], [2106], [1996], [6261], [2984], [9382], [3711], [1999], [8517], [1999], [10223, 26371], [2605], [1029]], [[2054], [2003], [1999], [2392], [1997], [1996], [10289], [8214], [2364], [2311], [1029]], [[1996], [13546], [1997], [1996], [6730], [2540], [2012], [10289], [8214], [2003], [3875], [2000], [2029], [3252], [1029]], [[2054], [2003], [1996], [24665, 23052], [2012], [10289], [8214], [1029]], [[2054], [7719], [2006], [2327], [1997], [1996], [2364], [2311], [2012], [10289], [8214], [1029]], [[2043], [2106], [1996], [24105], [2932], [1997], [10289], [8214], [4088], [4640], [1029]], [[2129], [2411], [2003], [10289], [8214], [1005], [1055], [1996], [26536, 17420], [2405], [1029]], [[2054], [2003], [1996], [3679], [3076], [3259], [2012], [10289], [8214], [2170], [1029]], [[2129], [2116], [3076], [2739], [4981], [2024], [2179], [2012], [10289], [8214], [1029]], [[1999], [2054], [2095], [2106], [1996], [3076], [3259], [2691], [3168], [4088], [4772], [2012], [10289], [8214], [1029]], [[2073], [2003], [1996], [4075], [1997], [1996], [7769], [1997], [1996], [4151], [2892], [1029]], [[2054], [2003], [1996], [3078], [8705], [1997], [1996], [7769], [1997], [1996], [4151], [2892], [1029]], [[2054], [2003], [1996], [4587], [3252], [2012], [10289], [8214], [1029]], [[2054], [3633], [2444], [2012], [27596], [2160], [2012], [10289], [8214], [1029]], [[2029], [3396], [2106], [5406], [20934, 15937, 3678], [3443], [1029]], [[2129], [2116], [18667], [2504], [5445], [2024], [3253], [1999], [1996], [2267], [1997], [3330], [2012], [10289], [8214], [1029]], [[1999], [2054], [2095], [2001], [1996], [2267], [1997], [3330], [2012], [10289], [8214], [2719], [1029]], [[2077], [1996], [4325], [1997], [1996], [2267], [1997], [3330], [2714], [2913], [2020], [3344], [2041], [2012], [2029], [10289], [8214], [2267], [1029]], [[2129], [2116], [7640], [2024], [2306], [1996], [2358, 7076, 2239], [1011], [2128, 7712, 2243], [2534], [1997], [3330], [1029]], [[1996], [2267], [1997], [2671], [2211], [2000], [3749], [2942], [3330], [5352], [2927], [2012], [2054], [2051], [2012], [10289], [8214], [1029]], [[2054], [9178], [3640], [2393], [2007], [1996], [2968], [1997], [2051], [2005], [2047], [2493], [2012], [10289], [8214], [1029]], [[2129], [2116], [6667], [2005], [8324, 2015], [2024], [2012], [10289], [8214], [1029]], [[2054], [2001], [2580], [2012], [10289], [8214], [1999], [3705], [2000], [6509], [2034], [2095], [2493], [1029]], [[2029], [3029], [4161], [1996], [2034], [2095], [1997], [2913], [2565], [2012], [10289], [8214], [1000], [5151], [1029], [1000]], [[1996], [15080], [1997], [8972], [5445], [2034], [4158], [1999], [2054], [2095], [2012], [10289], [8214], [1029]], [[2054], [2828], [1997], [3014], [2003], [2019], [1049], [1012], [4487, 2615], [1012], [1029]], [[2029], [2565], [2012], [10289], [8214], [4107], [1037], [3040], [1997], [2495], [3014], [1029]], [[1999], [2054], [2095], [2001], [1037], [3040], [1997], [2840], [2607], [2034], [3253], [2012], [10289], [8214], [1029]], [[2029], [2533], [2012], [10289], [8214], [2003], [1996], [2069], [2028], [2000], [2025], [3749], [1037], [8065], [2565], [1029]], [[2054], [2820], [2012], [10289], [8214], [2913], [1996], [4436], [2005], [6355], [4736], [1029]]]>"
            ]
          },
          "metadata": {
            "tags": []
          },
          "execution_count": 34
        }
      ]
    },
    {
      "cell_type": "code",
      "metadata": {
        "id": "oDtbzpfp3puq"
      },
      "source": [
        "x = bert_preprocess_layer.bert_pack_inputs([train_context_tokens[0] , train_question_tokens[0]])"
      ],
      "execution_count": 38,
      "outputs": []
    },
    {
      "cell_type": "code",
      "metadata": {
        "id": "rawCGNQ-8GUh",
        "colab": {
          "base_uri": "https://localhost:8080/"
        },
        "outputId": "0a79ee2a-a1d6-4f67-e971-9705b5d18580"
      },
      "source": [
        "x['input_word_ids'][0]"
      ],
      "execution_count": 41,
      "outputs": [
        {
          "output_type": "execute_result",
          "data": {
            "text/plain": [
              "<tf.Tensor: shape=(128,), dtype=int32, numpy=\n",
              "array([  101,  6549,  2135,  1010,  1996,  2082,  2038,  1037,  3234,\n",
              "        2839,  1012, 10234,  1996,  2364,  2311,  1005,  1055,  2751,\n",
              "        8514,  2003,  1037,  3585,  6231,  1997,  1996,  6261,  2984,\n",
              "        1012,  3202,  1999,  2392,  1997,  1996,  2364,  2311,  1998,\n",
              "        5307,  2009,  1010,  2003,  1037,  6967,  6231,  1997,  4828,\n",
              "        2007,  2608,  2039, 14995,  6924,  2007,  1996,  5722,  1000,\n",
              "        2310,  3490,  2618,  4748,  2033, 18168,  5267,  1000,  1012,\n",
              "        2279,  2000,  1996,  2364,  2311,  2003,  1996, 13546,  1997,\n",
              "        1996,  6730,  2540,  1012,  3202,  2369,  1996, 13546,  2003,\n",
              "        1996, 24665, 23052,  1010,  1037, 14042,  2173,  1997,  7083,\n",
              "        1998,  9185,  1012,  2009,  2003,  1037, 15059,  1997,  1996,\n",
              "       24665, 23052,  2012, 10223, 26371,  1010,  2605,  2073,  1996,\n",
              "        6261,  2984, 22353,   102,  2000,  3183,  2106,  1996,  6261,\n",
              "        2984,  9382,  3711,  1999,  8517,  1999, 10223, 26371,  2605,\n",
              "        1029,   102], dtype=int32)>"
            ]
          },
          "metadata": {
            "tags": []
          },
          "execution_count": 41
        }
      ]
    },
    {
      "cell_type": "code",
      "metadata": {
        "id": "IHxpzNrKTei5"
      },
      "source": [
        ""
      ],
      "execution_count": null,
      "outputs": []
    },
    {
      "cell_type": "code",
      "metadata": {
        "id": "lbkhX9ytzHqF"
      },
      "source": [
        ""
      ],
      "execution_count": null,
      "outputs": []
    },
    {
      "cell_type": "code",
      "metadata": {
        "id": "UmenEbhi1n7Y"
      },
      "source": [
        ""
      ],
      "execution_count": null,
      "outputs": []
    },
    {
      "cell_type": "code",
      "metadata": {
        "id": "ULtbQBdMXcGg"
      },
      "source": [
        ""
      ],
      "execution_count": null,
      "outputs": []
    },
    {
      "cell_type": "code",
      "metadata": {
        "id": "sBTBTYVHyXt5"
      },
      "source": [
        ""
      ],
      "execution_count": null,
      "outputs": []
    },
    {
      "cell_type": "code",
      "metadata": {
        "id": "2zyhIEUCeRdY"
      },
      "source": [
        "def bert_tokenizer(x):\n",
        "  return (bert_preprocess_layer.tokenize([x]))\n",
        "\n",
        "def joiner(x,y):\n",
        "  x_tokens = bert_tokenizer(x)\n",
        "  y_tokens = bert_tokenizer(y)\n",
        "  return (bert_preprocess_layer.bert_pack_inputs([x_tokens,y_tokens]))"
      ],
      "execution_count": null,
      "outputs": []
    },
    {
      "cell_type": "code",
      "metadata": {
        "id": "aCdPIRI_yhl1"
      },
      "source": [
        "x = bert_preprocess_layer.tokenize(['nice weather'])"
      ],
      "execution_count": null,
      "outputs": []
    },
    {
      "cell_type": "code",
      "metadata": {
        "id": "2jb2OnXnypP2"
      },
      "source": [
        ""
      ],
      "execution_count": null,
      "outputs": []
    },
    {
      "cell_type": "code",
      "metadata": {
        "id": "3sosHxiRzG6C"
      },
      "source": [
        ""
      ],
      "execution_count": null,
      "outputs": []
    },
    {
      "cell_type": "code",
      "metadata": {
        "id": "Jj_J9fmyQH5x"
      },
      "source": [
        ""
      ],
      "execution_count": null,
      "outputs": []
    },
    {
      "cell_type": "code",
      "metadata": {
        "id": "tQRj7JDM0cMd"
      },
      "source": [
        ""
      ],
      "execution_count": null,
      "outputs": []
    },
    {
      "cell_type": "code",
      "metadata": {
        "id": "shRQRr4G0EvU"
      },
      "source": [
        ""
      ],
      "execution_count": null,
      "outputs": []
    },
    {
      "cell_type": "code",
      "metadata": {
        "id": "lTp57X0H5bvc"
      },
      "source": [
        ""
      ],
      "execution_count": null,
      "outputs": []
    },
    {
      "cell_type": "code",
      "metadata": {
        "id": "D2U0nXo_5iaR"
      },
      "source": [
        ""
      ],
      "execution_count": null,
      "outputs": []
    },
    {
      "cell_type": "code",
      "metadata": {
        "id": "Tjwt5IkhQH2K"
      },
      "source": [
        "# input_layer = keras.Input(shape = ())\n",
        "# bert_layer_nn1 , bert_layer_nn2,bert_layer_nn3,bert_layer_nn4  = bert_layer(a_and_b)\n",
        "# end_layer = layers.Dense(1)(tf.constant(bert_layer_nn1))\n",
        "# model_nn = keras.Model(inputs=input_layer, output = end_layer)\n",
        "# loss = keras.losses.SparseCategoricalCrossentropy(from_logits=False)\n",
        "# optimizer = keras.optimizers.Adam(lr=1e-5, beta_1=0.9, beta_2=0.98, epsilon=1e-9)\n",
        "# model.compile(optimizer=optimizer, loss=[loss, loss])\n",
        "# model.summary()\n",
        "# model.fit([a,b], y_deneme, epochs=2, batch_size=8)\n"
      ],
      "execution_count": null,
      "outputs": []
    },
    {
      "cell_type": "code",
      "metadata": {
        "id": "clzangzr7o8i"
      },
      "source": [
        ""
      ],
      "execution_count": null,
      "outputs": []
    }
  ]
}