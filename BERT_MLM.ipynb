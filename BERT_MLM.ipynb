{
  "nbformat": 4,
  "nbformat_minor": 0,
  "metadata": {
    "colab": {
      "name": "BERT_MLM.ipynb",
      "provenance": [],
      "collapsed_sections": [],
      "authorship_tag": "ABX9TyPY5rsq7dXjhb+MqS0zM7fw",
      "include_colab_link": true
    },
    "kernelspec": {
      "name": "python3",
      "display_name": "Python 3"
    },
    "accelerator": "GPU"
  },
  "cells": [
    {
      "cell_type": "markdown",
      "metadata": {
        "id": "view-in-github",
        "colab_type": "text"
      },
      "source": [
        "<a href=\"https://colab.research.google.com/github/malinphy/Embedding_calls/blob/main/BERT_MLM.ipynb\" target=\"_parent\"><img src=\"https://colab.research.google.com/assets/colab-badge.svg\" alt=\"Open In Colab\"/></a>"
      ]
    },
    {
      "cell_type": "code",
      "metadata": {
        "id": "LAB0auYbkBL_"
      },
      "source": [
        "#### This notebook was created to test Bert Masked Encoder to be used for Masked language model and the Seq4Rec using MultiHeadAttention Layer\n",
        "# 80% Replace with a [MASK] token: For 80% of the selected inputs the token is replaced with a [MASK] token similar to the classic cloze tests mentioned earlier.\n",
        "# 10% Replace with an incorrect word: For 10% of the selected inputs, the token is replaced by another randomly selected word whose only requirement is that it’s different from the selected token.\n",
        "# 10% Replace with the correct word: The remaining 10% of the time the selected token is simply replaced with the correct token.\n",
        "\n"
      ],
      "execution_count": 1,
      "outputs": []
    },
    {
      "cell_type": "code",
      "metadata": {
        "id": "y2wgImRddC6k"
      },
      "source": [
        "import numpy as np\n",
        "import pandas as pd \n",
        "import os \n",
        "import sys \n",
        "import re, string\n",
        "\n",
        "import matplotlib.pyplot as plt \n",
        "import tensorflow as tf \n",
        "from tensorflow import keras \n",
        "from tensorflow.keras import layers \n",
        "from tensorflow.keras.layers import Dense, TextVectorization, Embedding, MultiHeadAttention, Dropout,LayerNormalization"
      ],
      "execution_count": 2,
      "outputs": []
    },
    {
      "cell_type": "code",
      "source": [
        "#### PARAMETER LIST \n",
        "SEQUENCE_LEN =  256\n",
        "EMBED_DIM = 128\n",
        "CORPUS_SIZE = 20000\n",
        "N_NEURONS = 128\n",
        "NUM_HEADS = 8\n",
        "KEY_DIM = 16\n",
        "NUM_ATT_LAYER = 8"
      ],
      "metadata": {
        "id": "3Ou_D8lUO0O-"
      },
      "execution_count": 3,
      "outputs": []
    },
    {
      "cell_type": "code",
      "source": [
        "def custom_standardization(input_data):\n",
        "    lowercase = str(input_data).lower()\n",
        "    s = re.sub(\"<br />\", \" \",lowercase)\n",
        "    s = re.sub('\\x96|\\x85|\\xe3',' ',s) \n",
        "    out = re.sub('[%s]' % re.escape(string.punctuation), '', s)\n",
        "    return out"
      ],
      "metadata": {
        "id": "0XJ412bZTGIQ"
      },
      "execution_count": 4,
      "outputs": []
    },
    {
      "cell_type": "code",
      "metadata": {
        "id": "jU_8aAyEuzVw"
      },
      "source": [
        "data_url = 'https://raw.githubusercontent.com/malinphy/datasets/main/IMDB_sent/IMDB%20Dataset.csv'\n",
        "df = pd.read_csv(data_url)"
      ],
      "execution_count": 5,
      "outputs": []
    },
    {
      "cell_type": "code",
      "source": [
        "df['review']=df['review'].apply(custom_standardization)"
      ],
      "metadata": {
        "id": "uGtFF3yJTMBr"
      },
      "execution_count": 6,
      "outputs": []
    },
    {
      "cell_type": "code",
      "metadata": {
        "id": "UXQVRGMqLoVX",
        "colab": {
          "base_uri": "https://localhost:8080/",
          "height": 143
        },
        "outputId": "e6ba7e8f-765e-463c-b278-f3bce8e6cf76"
      },
      "source": [
        "df.head(3)"
      ],
      "execution_count": 7,
      "outputs": [
        {
          "output_type": "execute_result",
          "data": {
            "text/html": [
              "\n",
              "  <div id=\"df-8fe7888b-ee28-4c35-b70d-9a6d06c4826e\">\n",
              "    <div class=\"colab-df-container\">\n",
              "      <div>\n",
              "<style scoped>\n",
              "    .dataframe tbody tr th:only-of-type {\n",
              "        vertical-align: middle;\n",
              "    }\n",
              "\n",
              "    .dataframe tbody tr th {\n",
              "        vertical-align: top;\n",
              "    }\n",
              "\n",
              "    .dataframe thead th {\n",
              "        text-align: right;\n",
              "    }\n",
              "</style>\n",
              "<table border=\"1\" class=\"dataframe\">\n",
              "  <thead>\n",
              "    <tr style=\"text-align: right;\">\n",
              "      <th></th>\n",
              "      <th>review</th>\n",
              "      <th>sentiment</th>\n",
              "    </tr>\n",
              "  </thead>\n",
              "  <tbody>\n",
              "    <tr>\n",
              "      <th>0</th>\n",
              "      <td>one of the other reviewers has mentioned that ...</td>\n",
              "      <td>positive</td>\n",
              "    </tr>\n",
              "    <tr>\n",
              "      <th>1</th>\n",
              "      <td>a wonderful little production   the filming te...</td>\n",
              "      <td>positive</td>\n",
              "    </tr>\n",
              "    <tr>\n",
              "      <th>2</th>\n",
              "      <td>i thought this was a wonderful way to spend ti...</td>\n",
              "      <td>positive</td>\n",
              "    </tr>\n",
              "  </tbody>\n",
              "</table>\n",
              "</div>\n",
              "      <button class=\"colab-df-convert\" onclick=\"convertToInteractive('df-8fe7888b-ee28-4c35-b70d-9a6d06c4826e')\"\n",
              "              title=\"Convert this dataframe to an interactive table.\"\n",
              "              style=\"display:none;\">\n",
              "        \n",
              "  <svg xmlns=\"http://www.w3.org/2000/svg\" height=\"24px\"viewBox=\"0 0 24 24\"\n",
              "       width=\"24px\">\n",
              "    <path d=\"M0 0h24v24H0V0z\" fill=\"none\"/>\n",
              "    <path d=\"M18.56 5.44l.94 2.06.94-2.06 2.06-.94-2.06-.94-.94-2.06-.94 2.06-2.06.94zm-11 1L8.5 8.5l.94-2.06 2.06-.94-2.06-.94L8.5 2.5l-.94 2.06-2.06.94zm10 10l.94 2.06.94-2.06 2.06-.94-2.06-.94-.94-2.06-.94 2.06-2.06.94z\"/><path d=\"M17.41 7.96l-1.37-1.37c-.4-.4-.92-.59-1.43-.59-.52 0-1.04.2-1.43.59L10.3 9.45l-7.72 7.72c-.78.78-.78 2.05 0 2.83L4 21.41c.39.39.9.59 1.41.59.51 0 1.02-.2 1.41-.59l7.78-7.78 2.81-2.81c.8-.78.8-2.07 0-2.86zM5.41 20L4 18.59l7.72-7.72 1.47 1.35L5.41 20z\"/>\n",
              "  </svg>\n",
              "      </button>\n",
              "      \n",
              "  <style>\n",
              "    .colab-df-container {\n",
              "      display:flex;\n",
              "      flex-wrap:wrap;\n",
              "      gap: 12px;\n",
              "    }\n",
              "\n",
              "    .colab-df-convert {\n",
              "      background-color: #E8F0FE;\n",
              "      border: none;\n",
              "      border-radius: 50%;\n",
              "      cursor: pointer;\n",
              "      display: none;\n",
              "      fill: #1967D2;\n",
              "      height: 32px;\n",
              "      padding: 0 0 0 0;\n",
              "      width: 32px;\n",
              "    }\n",
              "\n",
              "    .colab-df-convert:hover {\n",
              "      background-color: #E2EBFA;\n",
              "      box-shadow: 0px 1px 2px rgba(60, 64, 67, 0.3), 0px 1px 3px 1px rgba(60, 64, 67, 0.15);\n",
              "      fill: #174EA6;\n",
              "    }\n",
              "\n",
              "    [theme=dark] .colab-df-convert {\n",
              "      background-color: #3B4455;\n",
              "      fill: #D2E3FC;\n",
              "    }\n",
              "\n",
              "    [theme=dark] .colab-df-convert:hover {\n",
              "      background-color: #434B5C;\n",
              "      box-shadow: 0px 1px 3px 1px rgba(0, 0, 0, 0.15);\n",
              "      filter: drop-shadow(0px 1px 2px rgba(0, 0, 0, 0.3));\n",
              "      fill: #FFFFFF;\n",
              "    }\n",
              "  </style>\n",
              "\n",
              "      <script>\n",
              "        const buttonEl =\n",
              "          document.querySelector('#df-8fe7888b-ee28-4c35-b70d-9a6d06c4826e button.colab-df-convert');\n",
              "        buttonEl.style.display =\n",
              "          google.colab.kernel.accessAllowed ? 'block' : 'none';\n",
              "\n",
              "        async function convertToInteractive(key) {\n",
              "          const element = document.querySelector('#df-8fe7888b-ee28-4c35-b70d-9a6d06c4826e');\n",
              "          const dataTable =\n",
              "            await google.colab.kernel.invokeFunction('convertToInteractive',\n",
              "                                                     [key], {});\n",
              "          if (!dataTable) return;\n",
              "\n",
              "          const docLinkHtml = 'Like what you see? Visit the ' +\n",
              "            '<a target=\"_blank\" href=https://colab.research.google.com/notebooks/data_table.ipynb>data table notebook</a>'\n",
              "            + ' to learn more about interactive tables.';\n",
              "          element.innerHTML = '';\n",
              "          dataTable['output_type'] = 'display_data';\n",
              "          await google.colab.output.renderOutput(dataTable, element);\n",
              "          const docLink = document.createElement('div');\n",
              "          docLink.innerHTML = docLinkHtml;\n",
              "          element.appendChild(docLink);\n",
              "        }\n",
              "      </script>\n",
              "    </div>\n",
              "  </div>\n",
              "  "
            ],
            "text/plain": [
              "                                              review sentiment\n",
              "0  one of the other reviewers has mentioned that ...  positive\n",
              "1  a wonderful little production   the filming te...  positive\n",
              "2  i thought this was a wonderful way to spend ti...  positive"
            ]
          },
          "metadata": {},
          "execution_count": 7
        }
      ]
    },
    {
      "cell_type": "code",
      "metadata": {
        "id": "qN-jvQNIQE6c"
      },
      "source": [
        "vectorizer = TextVectorization(max_tokens = CORPUS_SIZE, output_mode=\"int\",output_sequence_length=256)\n",
        "vectorizer.adapt(df['review'])\n",
        "# print(vectorizer(df['review'][1]))\n",
        "#### corpus is crated to collect all tokens\n",
        "corpus_1 = vectorizer.get_vocabulary()\n",
        "tokenizer_size = vectorizer.vocabulary_size()\n",
        "corpus_2 = corpus_1 + ['MASK']"
      ],
      "execution_count": 8,
      "outputs": []
    },
    {
      "cell_type": "code",
      "source": [
        "#### creating a dictionary to encode and decode tokens and index of the tokens\n",
        "vocab_2enc = {i:j for i,j in enumerate(corpus_1)}\n",
        "enc_2vocab = {j:i for i,j in enumerate(corpus_1)}\n",
        "#### subscript_2 refers to masked corpus\n",
        "vocab_2enc_2 = {i:j for i,j in enumerate(corpus_2)}\n",
        "enc_2vocab_2 = {j:i for i,j in enumerate(corpus_2)}"
      ],
      "metadata": {
        "id": "BotyNmqbWGYQ"
      },
      "execution_count": 9,
      "outputs": []
    },
    {
      "cell_type": "code",
      "source": [
        "def mask_creator(tokenizer_size):\n",
        "  x = np.random.randint(0,len(tokenizer_size),int(len(tokenizer_size)*0.15  ))\n",
        "  \n",
        "  return x\n",
        "\n",
        "random_indexes = mask_creator(corpus_2)\n",
        "random_indexes\n",
        "\n",
        "mask_index = enc_2vocab_2['MASK']\n",
        "print('Index of [\\'MASK\\'] token',mask_index)\n",
        "for i in random_indexes:\n",
        "  x = vocab_2enc_2[i]\n",
        "  vocab_2enc_2[i] = 'MASK'\n",
        "  enc_2vocab_2[x] = mask_index"
      ],
      "metadata": {
        "id": "lvStjGiJZRPT",
        "colab": {
          "base_uri": "https://localhost:8080/"
        },
        "outputId": "3e970882-6097-49ab-9bd7-d0dddde74eed"
      },
      "execution_count": 10,
      "outputs": [
        {
          "output_type": "stream",
          "name": "stdout",
          "text": [
            "Index of ['MASK'] token 20000\n"
          ]
        }
      ]
    },
    {
      "cell_type": "code",
      "source": [
        "#### masking the text \n",
        "total_review = []\n",
        "for j in range(len(df)):\n",
        "  x  = []\n",
        "  for i in (vectorizer(df['review'][j])):\n",
        "    x.append(vocab_2enc_2[((i).numpy())])\n",
        "    big = ((\" \".join((x))))\n",
        "  total_review.append(big)\n",
        "\n",
        "\n"
      ],
      "metadata": {
        "id": "YthXvzjyhER5",
        "colab": {
          "base_uri": "https://localhost:8080/",
          "height": 227
        },
        "outputId": "43621786-4f9a-48e4-9db4-bd3115247001"
      },
      "execution_count": 12,
      "outputs": [
        {
          "output_type": "error",
          "ename": "NameError",
          "evalue": "ignored",
          "traceback": [
            "\u001b[0;31m---------------------------------------------------------------------------\u001b[0m",
            "\u001b[0;31mNameError\u001b[0m                                 Traceback (most recent call last)",
            "\u001b[0;32m<ipython-input-12-a5dc2c8ac7eb>\u001b[0m in \u001b[0;36m<module>\u001b[0;34m()\u001b[0m\n\u001b[1;32m     19\u001b[0m     \u001b[0;31m# print(enc_2vocab_2[j])\u001b[0m\u001b[0;34m\u001b[0m\u001b[0;34m\u001b[0m\u001b[0;34m\u001b[0m\u001b[0m\n\u001b[1;32m     20\u001b[0m     \u001b[0miki\u001b[0m\u001b[0;34m.\u001b[0m\u001b[0mappend\u001b[0m\u001b[0;34m(\u001b[0m\u001b[0menc_2vocab_2\u001b[0m\u001b[0;34m[\u001b[0m\u001b[0mj\u001b[0m\u001b[0;34m]\u001b[0m\u001b[0;34m)\u001b[0m\u001b[0;34m\u001b[0m\u001b[0;34m\u001b[0m\u001b[0m\n\u001b[0;32m---> 21\u001b[0;31m     \u001b[0miki\u001b[0m \u001b[0;34m=\u001b[0m \u001b[0mnp\u001b[0m\u001b[0;34m.\u001b[0m\u001b[0mpad\u001b[0m\u001b[0;34m(\u001b[0m\u001b[0miki\u001b[0m\u001b[0;34m,\u001b[0m \u001b[0;34m(\u001b[0m\u001b[0;36m0\u001b[0m\u001b[0;34m,\u001b[0m \u001b[0mSEQUENCE_LEN\u001b[0m \u001b[0;34m-\u001b[0m \u001b[0mlen\u001b[0m\u001b[0;34m(\u001b[0m\u001b[0mA\u001b[0m\u001b[0;34m)\u001b[0m\u001b[0;34m)\u001b[0m\u001b[0;34m,\u001b[0m \u001b[0;34m'constant'\u001b[0m\u001b[0;34m)\u001b[0m\u001b[0;34m\u001b[0m\u001b[0;34m\u001b[0m\u001b[0m\n\u001b[0m\u001b[1;32m     22\u001b[0m   \u001b[0mtotal_tokens\u001b[0m\u001b[0;34m.\u001b[0m\u001b[0mappend\u001b[0m\u001b[0;34m(\u001b[0m\u001b[0miki\u001b[0m\u001b[0;34m)\u001b[0m\u001b[0;34m\u001b[0m\u001b[0;34m\u001b[0m\u001b[0m\n",
            "\u001b[0;31mNameError\u001b[0m: name 'A' is not defined"
          ]
        }
      ]
    },
    {
      "cell_type": "code",
      "source": [
        "sayac = 0\n",
        "total_tokens = []\n",
        "for i in range(len(total_review)):\n",
        "  # sayac +=1\n",
        "  # if sayac ==3:\n",
        "  #   break\n",
        "  iki = []\n",
        "  for j in total_review[i].split():\n",
        "    # print(enc_2vocab_2[j])\n",
        "    iki.append(enc_2vocab_2[j])\n",
        "    uc = np.pad(iki, (0, SEQUENCE_LEN - len(iki)), 'constant')\n",
        "  total_tokens.append(uc)"
      ],
      "metadata": {
        "id": "28j_0lxrAhnk"
      },
      "execution_count": 13,
      "outputs": []
    },
    {
      "cell_type": "code",
      "source": [
        "# sayac = 0\n",
        "# total_tokens = []\n",
        "# for i in range(len(total_review)):\n",
        "#   # sayac +=1\n",
        "#   # if sayac ==3:\n",
        "#   #   break\n",
        "#   iki = []\n",
        "#   for j in total_review[i].split():\n",
        "#     # print(enc_2vocab_2[j])\n",
        "#     iki.append(enc_2vocab_2[j])\n",
        "#     uc = np.pad(iki, (0, SEQUENCE_LEN - len(iki)), 'constant')\n",
        "#   total_tokens.append(uc)"
      ],
      "metadata": {
        "id": "Bs-TcHJ0x2n6"
      },
      "execution_count": null,
      "outputs": []
    },
    {
      "cell_type": "code",
      "source": [
        ""
      ],
      "metadata": {
        "id": "Vp4SlZN9gYJA"
      },
      "execution_count": null,
      "outputs": []
    },
    {
      "cell_type": "code",
      "source": [
        "def get_pos_encoding_matrix(max_len, d_emb):\n",
        "    pos_enc = np.array(\n",
        "        [\n",
        "            [pos / np.power(10000, 2 * (j // 2) / d_emb) for j in range(d_emb)]\n",
        "            if pos != 0\n",
        "            else np.zeros(d_emb)\n",
        "            for pos in range(max_len)\n",
        "        ]\n",
        "    )\n",
        "    pos_enc[1:, 0::2] = np.sin(pos_enc[1:, 0::2])  # dim 2i\n",
        "    pos_enc[1:, 1::2] = np.cos(pos_enc[1:, 1::2])  # dim 2i+1\n",
        "    return pos_enc"
      ],
      "metadata": {
        "id": "_hIRK-Z3idPS"
      },
      "execution_count": null,
      "outputs": []
    },
    {
      "cell_type": "code",
      "source": [
        "first_input = tf.keras.Input(shape = (SEQUENCE_LEN,), name= 'word_iputs')\n",
        "word_embeddings = Embedding(CORPUS_SIZE+1,EMBED_DIM)(first_input)\n",
        "total_embs = word_embeddings #+ get_pos_encoding_matrix(SEQUENCE_LEN,EMBED_DIM)\n",
        "mha_1 = MultiHeadAttention(num_heads = NUM_HEADS, key_dim = KEY_DIM, name = 'first_embedding_layer')(total_embs,total_embs,total_embs)\n",
        "mha_1_out = mha_1+total_embs\n",
        "norm_1 = LayerNormalization(epsilon=0.001, name= 'normalization_layer_1')(mha_1_out)\n",
        "\n",
        "#### Feed forward\n",
        "feed_forward = tf.keras.Sequential([\n",
        "                                    Dense(N_NEURONS, activation= 'relu'),\n",
        "                                    Dense(EMBED_DIM)\n",
        "                                    ])\n",
        "ff_out = feed_forward(norm_1)\n",
        "norm_2 = LayerNormalization(epsilon=0.001, name= 'normalization_layer_2')(norm_1 +ff_out)\n",
        "top_layer = Dense(CORPUS_SIZE+1, activation='relu', name = 'selection_layer')(norm_2)"
      ],
      "metadata": {
        "id": "w9KG2kSj78FY"
      },
      "execution_count": 14,
      "outputs": []
    },
    {
      "cell_type": "code",
      "source": [
        "# for i in range(NUM_ATT_LAYER):\n",
        "#   mha_1 = MultiHeadAttention(num_heads = NUM_HEADS, key_dim = KEY_DIM, name = 'first_embedding_layer')(total_embs,total_embs,total_embs)\n",
        "#   mha_1_out = mha_1+total_embs\n",
        "#   norm_1 = LayerNormalization(epsilon=0.001, name= 'normalization_layer_1')(mha_1_out)\n",
        "\n",
        "#   #### Feed forward\n",
        "#   feed_forward = tf.keras.Sequential([\n",
        "#                                     Dense(N_NEURONS, activation= 'relu'),\n",
        "#                                     Dense(16)\n",
        "#                                     ])\n",
        "#   ff_out = feed_forward(norm_1)\n",
        "#   norm_2 = LayerNormalization(epsilon=0.001, name= 'normalization_layer_2')(norm_1 +ff_out)\n",
        "#   total_embs = norm_2"
      ],
      "metadata": {
        "id": "vhkRe7yUVCVR"
      },
      "execution_count": null,
      "outputs": []
    },
    {
      "cell_type": "code",
      "source": [
        "attention_model = tf.keras.Model(inputs = first_input, outputs = top_layer)"
      ],
      "metadata": {
        "id": "nS3UVhZttaGW"
      },
      "execution_count": 15,
      "outputs": []
    },
    {
      "cell_type": "code",
      "source": [
        "# attention_model.summary()"
      ],
      "metadata": {
        "id": "_qlWd0nxttTz"
      },
      "execution_count": null,
      "outputs": []
    },
    {
      "cell_type": "code",
      "source": [
        "attention_model.compile(\n",
        "    loss = 'SparseCategoricalCrossentropy',\n",
        "    optimizer = tf.keras.optimizers.Adam(\n",
        "    learning_rate=0.001, beta_1=0.9, beta_2=0.999, epsilon=1e-07),\n",
        "    metrics = ['accuracy']\n",
        "\n",
        ")"
      ],
      "metadata": {
        "id": "kQgIimCkQ6ec"
      },
      "execution_count": 16,
      "outputs": []
    },
    {
      "cell_type": "code",
      "source": [
        "y = np.array(vectorizer(df['review']))\n",
        "total_tokens = np.array(total_tokens)"
      ],
      "metadata": {
        "id": "yAR5Nshv0G8l"
      },
      "execution_count": 17,
      "outputs": []
    },
    {
      "cell_type": "code",
      "source": [
        "attention_model.fit(((total_tokens)),y, epochs = 10)"
      ],
      "metadata": {
        "colab": {
          "base_uri": "https://localhost:8080/"
        },
        "id": "sX1NATlNabF_",
        "outputId": "18fffb70-02ec-4f99-d81f-b9f5537a9174"
      },
      "execution_count": 19,
      "outputs": [
        {
          "output_type": "stream",
          "name": "stdout",
          "text": [
            "Epoch 1/10\n",
            "313/313 [==============================] - 117s 374ms/step - loss: 9.9350 - accuracy: 0.3077\n",
            "Epoch 2/10\n",
            "313/313 [==============================] - 117s 373ms/step - loss: 9.9036 - accuracy: 0.3118\n",
            "Epoch 3/10\n",
            "313/313 [==============================] - 117s 373ms/step - loss: 9.9036 - accuracy: 0.3118\n",
            "Epoch 4/10\n",
            "313/313 [==============================] - 117s 373ms/step - loss: 9.9036 - accuracy: 0.3118\n",
            "Epoch 5/10\n",
            "313/313 [==============================] - 117s 373ms/step - loss: 9.9036 - accuracy: 0.3118\n",
            "Epoch 6/10\n",
            "313/313 [==============================] - 117s 373ms/step - loss: 9.9036 - accuracy: 0.3118\n",
            "Epoch 7/10\n",
            "313/313 [==============================] - 117s 373ms/step - loss: 9.9036 - accuracy: 0.3118\n",
            "Epoch 8/10\n",
            "313/313 [==============================] - 117s 373ms/step - loss: 9.9036 - accuracy: 0.3118\n",
            "Epoch 9/10\n",
            "313/313 [==============================] - 117s 372ms/step - loss: 9.9036 - accuracy: 0.3118\n",
            "Epoch 10/10\n",
            "313/313 [==============================] - 117s 373ms/step - loss: 9.9036 - accuracy: 0.3118\n"
          ]
        },
        {
          "output_type": "execute_result",
          "data": {
            "text/plain": [
              "<keras.callbacks.History at 0x7f753cef3190>"
            ]
          },
          "metadata": {},
          "execution_count": 19
        }
      ]
    },
    {
      "cell_type": "code",
      "source": [
        "len(total_tokens)"
      ],
      "metadata": {
        "id": "gQbGxsmcbUGg"
      },
      "execution_count": null,
      "outputs": []
    },
    {
      "cell_type": "code",
      "source": [
        ""
      ],
      "metadata": {
        "id": "dRt3wTJu7WBg"
      },
      "execution_count": null,
      "outputs": []
    },
    {
      "cell_type": "code",
      "source": [
        "np.array(total_tokens)"
      ],
      "metadata": {
        "id": "aI24KdzBzXSa"
      },
      "execution_count": null,
      "outputs": []
    },
    {
      "cell_type": "code",
      "source": [
        "uzunluklar"
      ],
      "metadata": {
        "id": "U61fUZkZzf2R"
      },
      "execution_count": null,
      "outputs": []
    },
    {
      "cell_type": "code",
      "source": [
        ""
      ],
      "metadata": {
        "id": "-anwWQ9Izh2X"
      },
      "execution_count": null,
      "outputs": []
    }
  ]
}
