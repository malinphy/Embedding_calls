{
  "nbformat": 4,
  "nbformat_minor": 0,
  "metadata": {
    "colab": {
      "name": "IMDB_BERT_kerasHUB.ipynb",
      "provenance": [],
      "collapsed_sections": [],
      "include_colab_link": true
    },
    "kernelspec": {
      "display_name": "Python 3",
      "language": "python",
      "name": "python3"
    },
    "language_info": {
      "codemirror_mode": {
        "name": "ipython",
        "version": 3
      },
      "file_extension": ".py",
      "mimetype": "text/x-python",
      "name": "python",
      "nbconvert_exporter": "python",
      "pygments_lexer": "ipython3",
      "version": "3.8.3"
    },
    "accelerator": "GPU"
  },
  "cells": [
    {
      "cell_type": "markdown",
      "metadata": {
        "id": "view-in-github",
        "colab_type": "text"
      },
      "source": [
        "<a href=\"https://colab.research.google.com/github/malinphy/Embedding_calls/blob/main/IMDB_BERT_kerasHUB.ipynb\" target=\"_parent\"><img src=\"https://colab.research.google.com/assets/colab-badge.svg\" alt=\"Open In Colab\"/></a>"
      ]
    },
    {
      "cell_type": "code",
      "metadata": {
        "id": "hX71TFxoCdn1"
      },
      "source": [
        "### IMDB with BERT using keras hub connection "
      ],
      "execution_count": 1,
      "outputs": []
    },
    {
      "cell_type": "code",
      "metadata": {
        "colab": {
          "base_uri": "https://localhost:8080/"
        },
        "id": "GBSSWEzXaI3n",
        "outputId": "ecd595b6-fca7-4a9a-c66f-10ffc71a6268"
      },
      "source": [
        "import numpy as np \r\n",
        "import pandas as pd \r\n",
        "import tensorflow as tf \r\n",
        "import tensorflow_hub as hub\r\n",
        "!pip install tensorflow_text\r\n",
        "import tensorflow_text as text"
      ],
      "execution_count": 2,
      "outputs": [
        {
          "output_type": "stream",
          "text": [
            "Collecting tensorflow_text\n",
            "\u001b[?25l  Downloading https://files.pythonhosted.org/packages/55/b8/5884204f7c2da639a3061fe3a0c41a06bb80bf7976fa7d407e1d628e38e9/tensorflow_text-2.4.2-cp36-cp36m-manylinux1_x86_64.whl (3.4MB)\n",
            "\u001b[K     |████████████████████████████████| 3.4MB 7.6MB/s \n",
            "\u001b[?25hRequirement already satisfied: tensorflow-hub>=0.8.0 in /usr/local/lib/python3.6/dist-packages (from tensorflow_text) (0.10.0)\n",
            "Requirement already satisfied: tensorflow<2.5,>=2.4.0 in /usr/local/lib/python3.6/dist-packages (from tensorflow_text) (2.4.0)\n",
            "Requirement already satisfied: protobuf>=3.8.0 in /usr/local/lib/python3.6/dist-packages (from tensorflow-hub>=0.8.0->tensorflow_text) (3.12.4)\n",
            "Requirement already satisfied: numpy>=1.12.0 in /usr/local/lib/python3.6/dist-packages (from tensorflow-hub>=0.8.0->tensorflow_text) (1.19.4)\n",
            "Requirement already satisfied: typing-extensions~=3.7.4 in /usr/local/lib/python3.6/dist-packages (from tensorflow<2.5,>=2.4.0->tensorflow_text) (3.7.4.3)\n",
            "Requirement already satisfied: wrapt~=1.12.1 in /usr/local/lib/python3.6/dist-packages (from tensorflow<2.5,>=2.4.0->tensorflow_text) (1.12.1)\n",
            "Requirement already satisfied: tensorboard~=2.4 in /usr/local/lib/python3.6/dist-packages (from tensorflow<2.5,>=2.4.0->tensorflow_text) (2.4.0)\n",
            "Requirement already satisfied: flatbuffers~=1.12.0 in /usr/local/lib/python3.6/dist-packages (from tensorflow<2.5,>=2.4.0->tensorflow_text) (1.12)\n",
            "Requirement already satisfied: h5py~=2.10.0 in /usr/local/lib/python3.6/dist-packages (from tensorflow<2.5,>=2.4.0->tensorflow_text) (2.10.0)\n",
            "Requirement already satisfied: keras-preprocessing~=1.1.2 in /usr/local/lib/python3.6/dist-packages (from tensorflow<2.5,>=2.4.0->tensorflow_text) (1.1.2)\n",
            "Requirement already satisfied: gast==0.3.3 in /usr/local/lib/python3.6/dist-packages (from tensorflow<2.5,>=2.4.0->tensorflow_text) (0.3.3)\n",
            "Requirement already satisfied: six~=1.15.0 in /usr/local/lib/python3.6/dist-packages (from tensorflow<2.5,>=2.4.0->tensorflow_text) (1.15.0)\n",
            "Requirement already satisfied: grpcio~=1.32.0 in /usr/local/lib/python3.6/dist-packages (from tensorflow<2.5,>=2.4.0->tensorflow_text) (1.32.0)\n",
            "Requirement already satisfied: termcolor~=1.1.0 in /usr/local/lib/python3.6/dist-packages (from tensorflow<2.5,>=2.4.0->tensorflow_text) (1.1.0)\n",
            "Requirement already satisfied: absl-py~=0.10 in /usr/local/lib/python3.6/dist-packages (from tensorflow<2.5,>=2.4.0->tensorflow_text) (0.10.0)\n",
            "Requirement already satisfied: google-pasta~=0.2 in /usr/local/lib/python3.6/dist-packages (from tensorflow<2.5,>=2.4.0->tensorflow_text) (0.2.0)\n",
            "Requirement already satisfied: tensorflow-estimator<2.5.0,>=2.4.0rc0 in /usr/local/lib/python3.6/dist-packages (from tensorflow<2.5,>=2.4.0->tensorflow_text) (2.4.0)\n",
            "Requirement already satisfied: astunparse~=1.6.3 in /usr/local/lib/python3.6/dist-packages (from tensorflow<2.5,>=2.4.0->tensorflow_text) (1.6.3)\n",
            "Requirement already satisfied: wheel~=0.35 in /usr/local/lib/python3.6/dist-packages (from tensorflow<2.5,>=2.4.0->tensorflow_text) (0.36.2)\n",
            "Requirement already satisfied: opt-einsum~=3.3.0 in /usr/local/lib/python3.6/dist-packages (from tensorflow<2.5,>=2.4.0->tensorflow_text) (3.3.0)\n",
            "Requirement already satisfied: setuptools in /usr/local/lib/python3.6/dist-packages (from protobuf>=3.8.0->tensorflow-hub>=0.8.0->tensorflow_text) (51.0.0)\n",
            "Requirement already satisfied: tensorboard-plugin-wit>=1.6.0 in /usr/local/lib/python3.6/dist-packages (from tensorboard~=2.4->tensorflow<2.5,>=2.4.0->tensorflow_text) (1.7.0)\n",
            "Requirement already satisfied: markdown>=2.6.8 in /usr/local/lib/python3.6/dist-packages (from tensorboard~=2.4->tensorflow<2.5,>=2.4.0->tensorflow_text) (3.3.3)\n",
            "Requirement already satisfied: google-auth<2,>=1.6.3 in /usr/local/lib/python3.6/dist-packages (from tensorboard~=2.4->tensorflow<2.5,>=2.4.0->tensorflow_text) (1.17.2)\n",
            "Requirement already satisfied: requests<3,>=2.21.0 in /usr/local/lib/python3.6/dist-packages (from tensorboard~=2.4->tensorflow<2.5,>=2.4.0->tensorflow_text) (2.23.0)\n",
            "Requirement already satisfied: werkzeug>=0.11.15 in /usr/local/lib/python3.6/dist-packages (from tensorboard~=2.4->tensorflow<2.5,>=2.4.0->tensorflow_text) (1.0.1)\n",
            "Requirement already satisfied: google-auth-oauthlib<0.5,>=0.4.1 in /usr/local/lib/python3.6/dist-packages (from tensorboard~=2.4->tensorflow<2.5,>=2.4.0->tensorflow_text) (0.4.2)\n",
            "Requirement already satisfied: importlib-metadata; python_version < \"3.8\" in /usr/local/lib/python3.6/dist-packages (from markdown>=2.6.8->tensorboard~=2.4->tensorflow<2.5,>=2.4.0->tensorflow_text) (3.3.0)\n",
            "Requirement already satisfied: cachetools<5.0,>=2.0.0 in /usr/local/lib/python3.6/dist-packages (from google-auth<2,>=1.6.3->tensorboard~=2.4->tensorflow<2.5,>=2.4.0->tensorflow_text) (4.2.0)\n",
            "Requirement already satisfied: rsa<5,>=3.1.4; python_version >= \"3\" in /usr/local/lib/python3.6/dist-packages (from google-auth<2,>=1.6.3->tensorboard~=2.4->tensorflow<2.5,>=2.4.0->tensorflow_text) (4.6)\n",
            "Requirement already satisfied: pyasn1-modules>=0.2.1 in /usr/local/lib/python3.6/dist-packages (from google-auth<2,>=1.6.3->tensorboard~=2.4->tensorflow<2.5,>=2.4.0->tensorflow_text) (0.2.8)\n",
            "Requirement already satisfied: chardet<4,>=3.0.2 in /usr/local/lib/python3.6/dist-packages (from requests<3,>=2.21.0->tensorboard~=2.4->tensorflow<2.5,>=2.4.0->tensorflow_text) (3.0.4)\n",
            "Requirement already satisfied: urllib3!=1.25.0,!=1.25.1,<1.26,>=1.21.1 in /usr/local/lib/python3.6/dist-packages (from requests<3,>=2.21.0->tensorboard~=2.4->tensorflow<2.5,>=2.4.0->tensorflow_text) (1.24.3)\n",
            "Requirement already satisfied: idna<3,>=2.5 in /usr/local/lib/python3.6/dist-packages (from requests<3,>=2.21.0->tensorboard~=2.4->tensorflow<2.5,>=2.4.0->tensorflow_text) (2.10)\n",
            "Requirement already satisfied: certifi>=2017.4.17 in /usr/local/lib/python3.6/dist-packages (from requests<3,>=2.21.0->tensorboard~=2.4->tensorflow<2.5,>=2.4.0->tensorflow_text) (2020.12.5)\n",
            "Requirement already satisfied: requests-oauthlib>=0.7.0 in /usr/local/lib/python3.6/dist-packages (from google-auth-oauthlib<0.5,>=0.4.1->tensorboard~=2.4->tensorflow<2.5,>=2.4.0->tensorflow_text) (1.3.0)\n",
            "Requirement already satisfied: zipp>=0.5 in /usr/local/lib/python3.6/dist-packages (from importlib-metadata; python_version < \"3.8\"->markdown>=2.6.8->tensorboard~=2.4->tensorflow<2.5,>=2.4.0->tensorflow_text) (3.4.0)\n",
            "Requirement already satisfied: pyasn1>=0.1.3 in /usr/local/lib/python3.6/dist-packages (from rsa<5,>=3.1.4; python_version >= \"3\"->google-auth<2,>=1.6.3->tensorboard~=2.4->tensorflow<2.5,>=2.4.0->tensorflow_text) (0.4.8)\n",
            "Requirement already satisfied: oauthlib>=3.0.0 in /usr/local/lib/python3.6/dist-packages (from requests-oauthlib>=0.7.0->google-auth-oauthlib<0.5,>=0.4.1->tensorboard~=2.4->tensorflow<2.5,>=2.4.0->tensorflow_text) (3.1.0)\n",
            "Installing collected packages: tensorflow-text\n",
            "Successfully installed tensorflow-text-2.4.2\n"
          ],
          "name": "stdout"
        }
      ]
    },
    {
      "cell_type": "code",
      "metadata": {
        "id": "OPwHRo3EaI0d"
      },
      "source": [
        "url  = 'https://raw.githubusercontent.com/malinphy/IMDB_Analysis_different_approachs/main/IMDB_Dataset_short2.csv'\r\n",
        "df = pd.read_csv(url)"
      ],
      "execution_count": 3,
      "outputs": []
    },
    {
      "cell_type": "code",
      "metadata": {
        "colab": {
          "base_uri": "https://localhost:8080/",
          "height": 143
        },
        "id": "506ElMjbaIxU",
        "outputId": "64a06f79-3ed9-44f8-a01c-85aea00055ed"
      },
      "source": [
        "df.head(3)"
      ],
      "execution_count": 4,
      "outputs": [
        {
          "output_type": "execute_result",
          "data": {
            "text/html": [
              "<div>\n",
              "<style scoped>\n",
              "    .dataframe tbody tr th:only-of-type {\n",
              "        vertical-align: middle;\n",
              "    }\n",
              "\n",
              "    .dataframe tbody tr th {\n",
              "        vertical-align: top;\n",
              "    }\n",
              "\n",
              "    .dataframe thead th {\n",
              "        text-align: right;\n",
              "    }\n",
              "</style>\n",
              "<table border=\"1\" class=\"dataframe\">\n",
              "  <thead>\n",
              "    <tr style=\"text-align: right;\">\n",
              "      <th></th>\n",
              "      <th>review</th>\n",
              "      <th>sentiment</th>\n",
              "    </tr>\n",
              "  </thead>\n",
              "  <tbody>\n",
              "    <tr>\n",
              "      <th>0</th>\n",
              "      <td>One of the other reviewers has mentioned that ...</td>\n",
              "      <td>positive</td>\n",
              "    </tr>\n",
              "    <tr>\n",
              "      <th>1</th>\n",
              "      <td>A wonderful little production. &lt;br /&gt;&lt;br /&gt;The...</td>\n",
              "      <td>positive</td>\n",
              "    </tr>\n",
              "    <tr>\n",
              "      <th>2</th>\n",
              "      <td>I thought this was a wonderful way to spend ti...</td>\n",
              "      <td>positive</td>\n",
              "    </tr>\n",
              "  </tbody>\n",
              "</table>\n",
              "</div>"
            ],
            "text/plain": [
              "                                              review sentiment\n",
              "0  One of the other reviewers has mentioned that ...  positive\n",
              "1  A wonderful little production. <br /><br />The...  positive\n",
              "2  I thought this was a wonderful way to spend ti...  positive"
            ]
          },
          "metadata": {
            "tags": []
          },
          "execution_count": 4
        }
      ]
    },
    {
      "cell_type": "code",
      "metadata": {
        "colab": {
          "base_uri": "https://localhost:8080/",
          "height": 175
        },
        "id": "JHMV0ZHxay2M",
        "outputId": "b44885f7-7718-4f3e-f924-dfdd8e985333"
      },
      "source": [
        "from sklearn.preprocessing import LabelBinarizer\r\n",
        "LB = LabelBinarizer()\r\n",
        "binary_sentiment = LB.fit_transform(df['sentiment'])\r\n",
        "df['binary_sentiment'] = binary_sentiment\r\n",
        "df.head(4)"
      ],
      "execution_count": 5,
      "outputs": [
        {
          "output_type": "execute_result",
          "data": {
            "text/html": [
              "<div>\n",
              "<style scoped>\n",
              "    .dataframe tbody tr th:only-of-type {\n",
              "        vertical-align: middle;\n",
              "    }\n",
              "\n",
              "    .dataframe tbody tr th {\n",
              "        vertical-align: top;\n",
              "    }\n",
              "\n",
              "    .dataframe thead th {\n",
              "        text-align: right;\n",
              "    }\n",
              "</style>\n",
              "<table border=\"1\" class=\"dataframe\">\n",
              "  <thead>\n",
              "    <tr style=\"text-align: right;\">\n",
              "      <th></th>\n",
              "      <th>review</th>\n",
              "      <th>sentiment</th>\n",
              "      <th>binary_sentiment</th>\n",
              "    </tr>\n",
              "  </thead>\n",
              "  <tbody>\n",
              "    <tr>\n",
              "      <th>0</th>\n",
              "      <td>One of the other reviewers has mentioned that ...</td>\n",
              "      <td>positive</td>\n",
              "      <td>1</td>\n",
              "    </tr>\n",
              "    <tr>\n",
              "      <th>1</th>\n",
              "      <td>A wonderful little production. &lt;br /&gt;&lt;br /&gt;The...</td>\n",
              "      <td>positive</td>\n",
              "      <td>1</td>\n",
              "    </tr>\n",
              "    <tr>\n",
              "      <th>2</th>\n",
              "      <td>I thought this was a wonderful way to spend ti...</td>\n",
              "      <td>positive</td>\n",
              "      <td>1</td>\n",
              "    </tr>\n",
              "    <tr>\n",
              "      <th>3</th>\n",
              "      <td>Basically there's a family where a little boy ...</td>\n",
              "      <td>negative</td>\n",
              "      <td>0</td>\n",
              "    </tr>\n",
              "  </tbody>\n",
              "</table>\n",
              "</div>"
            ],
            "text/plain": [
              "                                              review  ... binary_sentiment\n",
              "0  One of the other reviewers has mentioned that ...  ...                1\n",
              "1  A wonderful little production. <br /><br />The...  ...                1\n",
              "2  I thought this was a wonderful way to spend ti...  ...                1\n",
              "3  Basically there's a family where a little boy ...  ...                0\n",
              "\n",
              "[4 rows x 3 columns]"
            ]
          },
          "metadata": {
            "tags": []
          },
          "execution_count": 5
        }
      ]
    },
    {
      "cell_type": "code",
      "metadata": {
        "id": "NWPFZPtAbatU"
      },
      "source": [
        "bert_encoder = 'https://tfhub.dev/tensorflow/small_bert/bert_en_uncased_L-4_H-512_A-8/1'\r\n",
        "\r\n",
        "bert_preprocessor = 'https://tfhub.dev/tensorflow/bert_en_uncased_preprocess/2'\r\n",
        "\r\n",
        "bert_tokenizer = hub.KerasLayer(bert_preprocessor)"
      ],
      "execution_count": 6,
      "outputs": []
    },
    {
      "cell_type": "code",
      "metadata": {
        "colab": {
          "base_uri": "https://localhost:8080/"
        },
        "id": "JDQxsUMFbule",
        "outputId": "7fb930e9-f240-48ad-a008-1ad4639d3928"
      },
      "source": [
        "text_test = ['this i such an amazing movie!']\r\n",
        "bert_tokenizer(text_test).keys()"
      ],
      "execution_count": 7,
      "outputs": [
        {
          "output_type": "execute_result",
          "data": {
            "text/plain": [
              "dict_keys(['input_type_ids', 'input_word_ids', 'input_mask'])"
            ]
          },
          "metadata": {
            "tags": []
          },
          "execution_count": 7
        }
      ]
    },
    {
      "cell_type": "code",
      "metadata": {
        "colab": {
          "base_uri": "https://localhost:8080/"
        },
        "id": "rb7DHnsGcQoa",
        "outputId": "e5cdff2c-f6de-4dad-f5e2-89b9cd649583"
      },
      "source": [
        "bert_tokenizer(text_test)['input_mask']"
      ],
      "execution_count": 8,
      "outputs": [
        {
          "output_type": "execute_result",
          "data": {
            "text/plain": [
              "<tf.Tensor: shape=(1, 128), dtype=int32, numpy=\n",
              "array([[1, 1, 1, 1, 1, 1, 1, 1, 1, 0, 0, 0, 0, 0, 0, 0, 0, 0, 0, 0, 0, 0,\n",
              "        0, 0, 0, 0, 0, 0, 0, 0, 0, 0, 0, 0, 0, 0, 0, 0, 0, 0, 0, 0, 0, 0,\n",
              "        0, 0, 0, 0, 0, 0, 0, 0, 0, 0, 0, 0, 0, 0, 0, 0, 0, 0, 0, 0, 0, 0,\n",
              "        0, 0, 0, 0, 0, 0, 0, 0, 0, 0, 0, 0, 0, 0, 0, 0, 0, 0, 0, 0, 0, 0,\n",
              "        0, 0, 0, 0, 0, 0, 0, 0, 0, 0, 0, 0, 0, 0, 0, 0, 0, 0, 0, 0, 0, 0,\n",
              "        0, 0, 0, 0, 0, 0, 0, 0, 0, 0, 0, 0, 0, 0, 0, 0, 0, 0]],\n",
              "      dtype=int32)>"
            ]
          },
          "metadata": {
            "tags": []
          },
          "execution_count": 8
        }
      ]
    },
    {
      "cell_type": "code",
      "metadata": {
        "colab": {
          "base_uri": "https://localhost:8080/"
        },
        "id": "suoqfqMhcwGn",
        "outputId": "8d0039e7-d910-4dfa-a7f4-022e54291cbf"
      },
      "source": [
        "bert_tokenizer(text_test)['input_word_ids']"
      ],
      "execution_count": 9,
      "outputs": [
        {
          "output_type": "execute_result",
          "data": {
            "text/plain": [
              "<tf.Tensor: shape=(1, 128), dtype=int32, numpy=\n",
              "array([[ 101, 2023, 1045, 2107, 2019, 6429, 3185,  999,  102,    0,    0,\n",
              "           0,    0,    0,    0,    0,    0,    0,    0,    0,    0,    0,\n",
              "           0,    0,    0,    0,    0,    0,    0,    0,    0,    0,    0,\n",
              "           0,    0,    0,    0,    0,    0,    0,    0,    0,    0,    0,\n",
              "           0,    0,    0,    0,    0,    0,    0,    0,    0,    0,    0,\n",
              "           0,    0,    0,    0,    0,    0,    0,    0,    0,    0,    0,\n",
              "           0,    0,    0,    0,    0,    0,    0,    0,    0,    0,    0,\n",
              "           0,    0,    0,    0,    0,    0,    0,    0,    0,    0,    0,\n",
              "           0,    0,    0,    0,    0,    0,    0,    0,    0,    0,    0,\n",
              "           0,    0,    0,    0,    0,    0,    0,    0,    0,    0,    0,\n",
              "           0,    0,    0,    0,    0,    0,    0,    0,    0,    0,    0,\n",
              "           0,    0,    0,    0,    0,    0,    0]], dtype=int32)>"
            ]
          },
          "metadata": {
            "tags": []
          },
          "execution_count": 9
        }
      ]
    },
    {
      "cell_type": "code",
      "metadata": {
        "id": "UgInAIFsc687"
      },
      "source": [
        "bert_embedder = hub.KerasLayer(bert_encoder)"
      ],
      "execution_count": 10,
      "outputs": []
    },
    {
      "cell_type": "code",
      "metadata": {
        "colab": {
          "base_uri": "https://localhost:8080/"
        },
        "id": "LBwuj-E3dqFw",
        "outputId": "7cb9735e-9503-4d45-8e14-f1b97a23fb32"
      },
      "source": [
        "bert_embedder(bert_tokenizer(text_test)).keys()"
      ],
      "execution_count": 11,
      "outputs": [
        {
          "output_type": "execute_result",
          "data": {
            "text/plain": [
              "dict_keys(['encoder_outputs', 'sequence_output', 'default', 'pooled_output'])"
            ]
          },
          "metadata": {
            "tags": []
          },
          "execution_count": 11
        }
      ]
    },
    {
      "cell_type": "code",
      "metadata": {
        "colab": {
          "base_uri": "https://localhost:8080/"
        },
        "id": "IQ3yvqw4eOII",
        "outputId": "6c731210-41a6-448d-b02c-e09910eb52f7"
      },
      "source": [
        "bert_embedder(bert_tokenizer(text_test))['pooled_output']"
      ],
      "execution_count": 12,
      "outputs": [
        {
          "output_type": "execute_result",
          "data": {
            "text/plain": [
              "<tf.Tensor: shape=(1, 512), dtype=float32, numpy=\n",
              "array([[ 0.7157584 ,  0.9987436 , -0.15102553,  0.36012033,  0.6217164 ,\n",
              "         0.7098733 ,  0.97359896, -0.9864086 , -0.14171284, -0.9970235 ,\n",
              "         0.10372248, -0.9788747 , -0.68936926, -0.99986273,  0.45407668,\n",
              "         0.5485351 ,  0.0530567 ,  0.12715293, -0.22928238,  0.06610436,\n",
              "         0.17265902, -0.05941267, -0.6126497 ,  0.8989955 ,  0.99032414,\n",
              "         0.9636686 , -0.40326723, -0.10267887,  0.28981274,  0.30340227,\n",
              "         0.7169639 , -0.32221377,  0.53955   , -0.44542477, -0.60813296,\n",
              "         0.14418213, -0.3128127 , -0.44930103, -0.20366478, -0.06162728,\n",
              "        -0.23198593, -0.16809411,  0.20032486, -0.8355514 ,  0.00881395,\n",
              "        -0.5835369 , -0.9982172 ,  0.14224845,  0.5016162 , -0.40689322,\n",
              "         0.9978696 , -0.44145587,  0.9871766 , -0.5643646 ,  0.01533946,\n",
              "         0.11497524, -0.107868  , -0.28828543, -0.99980724, -0.9993355 ,\n",
              "         0.0501882 , -0.2388813 ,  0.99482185, -0.20070581,  0.0972905 ,\n",
              "        -0.99781114,  0.8870878 ,  0.4929854 , -0.11393985,  0.69766945,\n",
              "         0.99294883,  0.9985246 , -0.4192136 , -0.9816485 , -0.86682546,\n",
              "         0.02940381, -0.32952827,  0.9698121 , -0.12640232, -0.49236876,\n",
              "        -0.9837927 , -0.04097106,  0.9860094 , -0.18472014,  0.9360211 ,\n",
              "        -0.99865186,  0.1306173 ,  0.23000126, -0.43961617, -0.1350222 ,\n",
              "        -0.9747154 ,  0.08137213,  0.597854  , -0.99896026, -0.9349182 ,\n",
              "         0.21375029,  0.9875924 , -0.03869626, -0.5756252 , -0.21442442,\n",
              "        -0.94681317, -0.92094654, -0.9766114 ,  0.3463434 , -0.35072428,\n",
              "         0.15362069,  0.99409777,  0.08624606, -0.44860843,  0.3216061 ,\n",
              "        -0.07896484,  0.3114668 ,  0.9946958 , -0.9826885 , -0.00484737,\n",
              "         0.29075295,  0.07265586,  0.57656795,  0.01746456,  0.9934593 ,\n",
              "        -0.98541397,  0.02490987, -0.9856316 , -0.21013953, -0.47677523,\n",
              "        -0.17276783,  0.27974576, -0.11910965,  0.13411692, -0.09557579,\n",
              "         0.9972966 ,  0.9981449 ,  0.9867337 ,  0.20446189,  0.63130903,\n",
              "        -0.9642756 ,  0.99698246, -0.97648984, -0.94394904,  0.47444296,\n",
              "         0.99997264,  0.39429155, -0.61188745,  0.8552369 , -0.25900334,\n",
              "         0.997215  , -0.76642793,  0.83968025, -0.9087793 , -0.27212968,\n",
              "        -0.13629998, -0.2241644 ,  0.973107  , -0.02749312,  0.29479986,\n",
              "        -0.09567366,  0.26918012,  0.90081507,  0.44050875,  0.19580746,\n",
              "        -0.35634735,  0.10491353, -0.33848932, -0.64184195,  0.99975854,\n",
              "        -0.06326781, -0.3439168 , -0.46601003,  0.995233  ,  0.8901275 ,\n",
              "         0.09088579, -0.9846304 ,  0.16092412, -0.14625295,  0.51417404,\n",
              "         0.5701394 ,  0.16034551,  0.4125112 ,  0.99974716,  0.6933349 ,\n",
              "         0.97896725, -0.1483944 ,  0.99616206, -0.21384314,  0.9378744 ,\n",
              "        -0.9922367 , -0.9930373 , -0.9687821 , -0.2219333 ,  0.9880148 ,\n",
              "         0.85127914, -0.8188496 , -0.9991103 , -0.49684983,  0.99893343,\n",
              "         0.2631672 , -0.94740075, -0.9601503 ,  0.9568529 ,  0.18816428,\n",
              "         0.4678655 , -0.33319488, -0.84294283,  0.06335268, -0.5567048 ,\n",
              "         0.9940718 , -0.39000663,  0.9825476 ,  0.9943135 ,  0.14267834,\n",
              "         0.19338647,  0.92296046,  0.08477914,  0.17595087,  0.96904063,\n",
              "        -0.93859327,  0.10843571,  0.9430659 ,  0.69969684,  0.11627189,\n",
              "        -0.9841011 , -0.5728535 , -0.9057934 ,  0.09648632,  0.8698832 ,\n",
              "         0.5257826 , -0.949482  ,  0.4046635 , -0.9963776 ,  0.991251  ,\n",
              "        -0.18884093, -0.10722849, -0.30260545,  0.2238708 ,  0.9629296 ,\n",
              "         0.26112664, -0.46766728,  0.43438557,  0.4671939 , -0.07592731,\n",
              "         0.55104774,  0.9999884 , -0.60298014,  0.9886702 , -0.23068506,\n",
              "         0.6726247 ,  0.99701095,  0.2007074 ,  0.9919625 ,  0.01997621,\n",
              "        -0.31018272, -0.10466608, -0.617371  ,  0.50920355,  0.99757224,\n",
              "        -0.05046295, -0.22676897, -0.99845564,  0.6058777 ,  0.8479124 ,\n",
              "        -0.52845687, -0.9977075 , -0.4535618 , -0.5968789 , -0.02042919,\n",
              "         0.9941535 ,  0.74407804, -0.83903474,  0.18495725,  0.4080484 ,\n",
              "         0.9989815 ,  0.09147643, -0.99680126,  0.9999816 , -0.33828923,\n",
              "        -0.9904987 ,  0.9950294 ,  0.28820762, -0.91921246, -0.17172523,\n",
              "        -0.9957282 , -0.9996647 ,  0.4738639 ,  0.999708  ,  0.3657224 ,\n",
              "        -0.13178073,  0.36771637,  0.24420728, -0.98634607, -0.9998093 ,\n",
              "        -0.76553226,  0.22961456,  0.47432348,  0.93773156,  0.99616885,\n",
              "        -0.99896234, -0.3042122 ,  0.9447155 , -0.04474358,  0.99104315,\n",
              "         0.9999095 , -0.72189   , -0.5584841 ,  0.9569591 , -0.16910367,\n",
              "        -0.37535447,  0.39031574,  0.9973584 ,  0.2814008 ,  0.47659126,\n",
              "         0.14731286,  0.3782043 , -0.06709882,  0.56378675,  0.9629987 ,\n",
              "         0.08906234,  0.36977074,  0.2732591 ,  0.6101879 ,  0.99984074,\n",
              "        -0.09812683,  0.5737097 , -0.32833007,  0.9110111 , -0.19631337,\n",
              "        -0.43466806, -0.84232   ,  0.2663783 , -0.8997927 ,  0.74388057,\n",
              "         0.8845366 ,  0.16548446, -0.14433376,  0.9507993 , -0.00849018,\n",
              "        -0.30165341, -0.08719251, -0.80685747, -0.73489606,  0.44621125,\n",
              "         0.9995997 ,  0.14503017, -0.5109513 ,  0.97947234, -0.05157615,\n",
              "         0.9914869 ,  0.58376366,  0.9984438 , -0.15553437,  0.9983344 ,\n",
              "         0.06944947,  0.31043074,  0.5827761 ,  0.13515662,  0.60714364,\n",
              "         0.29378623, -0.926574  , -0.18958439, -0.55623686, -0.01227584,\n",
              "        -0.9971314 , -0.34165782, -0.6342282 , -0.05381136,  0.00791911,\n",
              "        -0.9652241 , -0.48744318,  0.55733514,  0.2721978 ,  0.31631717,\n",
              "         0.24807829,  0.9702229 , -0.10293972, -0.00959529, -0.10489628,\n",
              "        -0.98874503, -0.15452383, -0.06528472, -0.40807065, -0.55083936,\n",
              "         0.7357775 , -0.01334538, -0.9998185 ,  0.3949953 ,  0.9959455 ,\n",
              "         0.6135397 ,  0.26607218, -0.30964044,  0.9366368 , -0.21243988,\n",
              "        -0.10919566,  0.98141104, -0.9999781 , -0.09256694, -0.3861479 ,\n",
              "        -0.11566206, -0.10630056, -0.2741399 ,  0.9995582 ,  0.00520009,\n",
              "        -0.18881303, -0.97679085, -0.77140886, -0.1140661 ,  0.9715495 ,\n",
              "         0.62565285,  0.00577654, -0.226074  , -0.09011689, -0.9999354 ,\n",
              "         0.9888865 ,  0.7715227 , -0.9984617 ,  0.26551476, -0.9207922 ,\n",
              "         0.45903638,  0.30880874, -0.98883307, -0.67732245, -0.9994752 ,\n",
              "        -0.46653783,  0.99865544, -0.25544274,  0.95513326,  0.33134544,\n",
              "        -0.91567945, -0.30000323,  0.15324715,  0.23098749,  0.28890166,\n",
              "         0.5730729 , -0.9025831 ,  0.99903554, -0.9929253 ,  0.76482266,\n",
              "         0.21806422, -0.6912099 , -0.4060974 , -0.3020113 ,  0.16956706,\n",
              "        -0.21900666, -0.99429095, -0.99850297, -0.1024182 , -0.9993774 ,\n",
              "        -0.8250757 , -0.97341794,  0.30476415, -0.37706277,  0.21232615,\n",
              "        -0.22301435,  0.21131745,  0.13432376,  0.5800534 ,  0.13309008,\n",
              "         0.9992335 , -0.45211914, -0.34100902, -0.38497856,  0.9880779 ,\n",
              "         0.77221435,  0.228739  , -0.9983091 ,  0.29086274,  0.9247139 ,\n",
              "         0.9705418 ,  0.67033863,  0.9967703 , -0.949709  , -0.09818785,\n",
              "         0.55859643, -0.8220261 ,  0.26554772, -0.23567761,  0.7186938 ,\n",
              "        -0.99859416, -0.9694808 ,  0.12805481, -0.9779407 ,  0.95364183,\n",
              "         0.31756967,  0.3163025 ,  0.44672036,  0.3444213 , -0.08567043,\n",
              "        -0.9056804 , -0.9772535 , -0.60840774,  0.2759513 , -0.5004658 ,\n",
              "         0.1202972 , -0.999956  , -0.90959173,  0.5530718 ,  0.09695214,\n",
              "        -0.10589816, -0.15215689,  0.10206826, -0.974598  ,  0.999059  ,\n",
              "         0.16616075, -0.17988935, -0.00558365,  0.07126496,  0.18925062,\n",
              "        -0.21177916,  0.9759149 , -0.47580612,  0.06771448,  0.23246123,\n",
              "        -0.4801    , -0.6997828 ]], dtype=float32)>"
            ]
          },
          "metadata": {
            "tags": []
          },
          "execution_count": 12
        }
      ]
    },
    {
      "cell_type": "code",
      "metadata": {
        "id": "0UkNphThet-t"
      },
      "source": [
        "from sklearn.model_selection import train_test_split\r\n",
        "train_x, test_x, train_labels, test_labels = train_test_split(\r\n",
        "    df['review'],\r\n",
        "    df['binary_sentiment'],\r\n",
        "    train_size = 0.8,\r\n",
        "    random_state = 42)"
      ],
      "execution_count": 13,
      "outputs": []
    },
    {
      "cell_type": "code",
      "metadata": {
        "id": "zLoodQXih67H"
      },
      "source": [
        "# var1 = bert_embedder(bert_tokenizer(df['review']))['pooled_output']"
      ],
      "execution_count": 14,
      "outputs": []
    },
    {
      "cell_type": "code",
      "metadata": {
        "colab": {
          "base_uri": "https://localhost:8080/"
        },
        "id": "CoC_eOJih6vd",
        "outputId": "17d5b5e7-5126-4f44-e063-f062135922bf"
      },
      "source": [
        "train_x.shape, train_labels.shape, test_x.shape , test_labels.shape"
      ],
      "execution_count": 15,
      "outputs": [
        {
          "output_type": "execute_result",
          "data": {
            "text/plain": [
              "((15199,), (15199,), (3800,), (3800,))"
            ]
          },
          "metadata": {
            "tags": []
          },
          "execution_count": 15
        }
      ]
    },
    {
      "cell_type": "code",
      "metadata": {
        "id": "JICKSBxmigxt"
      },
      "source": [
        "slide_size=3000\r\n",
        "\r\n",
        "b1 = train_x[:slide_size]\r\n",
        "b2 = train_x[slide_size:2*slide_size]\r\n",
        "b3 = train_x[2*slide_size:3*slide_size]\r\n",
        "b4 = train_x[3*slide_size:4*slide_size]\r\n",
        "b5 = train_x[4*slide_size:5*slide_size]\r\n",
        "b6 = train_x[5*slide_size:6*slide_size]"
      ],
      "execution_count": 16,
      "outputs": []
    },
    {
      "cell_type": "code",
      "metadata": {
        "colab": {
          "base_uri": "https://localhost:8080/"
        },
        "id": "XVx2FKJelwiD",
        "outputId": "ac807fc3-3588-4882-d40e-8c7fe9ce26d8"
      },
      "source": [
        "b1_embeddings = bert_embedder(bert_tokenizer(b1))['pooled_output']\r\n",
        "b2_embeddings = bert_embedder(bert_tokenizer(b2))['pooled_output']\r\n",
        "b3_embeddings = bert_embedder(bert_tokenizer(b3))['pooled_output']\r\n",
        "b4_embeddings = bert_embedder(bert_tokenizer(b4))['pooled_output']\r\n",
        "b5_embeddings = bert_embedder(bert_tokenizer(b5))['pooled_output']\r\n",
        "b6_embeddings = bert_embedder(bert_tokenizer(b6))['pooled_output']"
      ],
      "execution_count": 17,
      "outputs": [
        {
          "output_type": "stream",
          "text": [
            "WARNING:tensorflow:5 out of the last 10 calls to <function recreate_function.<locals>.restored_function_body at 0x7fd353781a60> triggered tf.function retracing. Tracing is expensive and the excessive number of tracings could be due to (1) creating @tf.function repeatedly in a loop, (2) passing tensors with different shapes, (3) passing Python objects instead of tensors. For (1), please define your @tf.function outside of the loop. For (2), @tf.function has experimental_relax_shapes=True option that relaxes argument shapes that can avoid unnecessary retracing. For (3), please refer to https://www.tensorflow.org/guide/function#controlling_retracing and https://www.tensorflow.org/api_docs/python/tf/function for  more details.\n"
          ],
          "name": "stdout"
        },
        {
          "output_type": "stream",
          "text": [
            "WARNING:tensorflow:5 out of the last 10 calls to <function recreate_function.<locals>.restored_function_body at 0x7fd353781a60> triggered tf.function retracing. Tracing is expensive and the excessive number of tracings could be due to (1) creating @tf.function repeatedly in a loop, (2) passing tensors with different shapes, (3) passing Python objects instead of tensors. For (1), please define your @tf.function outside of the loop. For (2), @tf.function has experimental_relax_shapes=True option that relaxes argument shapes that can avoid unnecessary retracing. For (3), please refer to https://www.tensorflow.org/guide/function#controlling_retracing and https://www.tensorflow.org/api_docs/python/tf/function for  more details.\n"
          ],
          "name": "stderr"
        },
        {
          "output_type": "stream",
          "text": [
            "WARNING:tensorflow:6 out of the last 11 calls to <function recreate_function.<locals>.restored_function_body at 0x7fd351480f28> triggered tf.function retracing. Tracing is expensive and the excessive number of tracings could be due to (1) creating @tf.function repeatedly in a loop, (2) passing tensors with different shapes, (3) passing Python objects instead of tensors. For (1), please define your @tf.function outside of the loop. For (2), @tf.function has experimental_relax_shapes=True option that relaxes argument shapes that can avoid unnecessary retracing. For (3), please refer to https://www.tensorflow.org/guide/function#controlling_retracing and https://www.tensorflow.org/api_docs/python/tf/function for  more details.\n"
          ],
          "name": "stdout"
        },
        {
          "output_type": "stream",
          "text": [
            "WARNING:tensorflow:6 out of the last 11 calls to <function recreate_function.<locals>.restored_function_body at 0x7fd351480f28> triggered tf.function retracing. Tracing is expensive and the excessive number of tracings could be due to (1) creating @tf.function repeatedly in a loop, (2) passing tensors with different shapes, (3) passing Python objects instead of tensors. For (1), please define your @tf.function outside of the loop. For (2), @tf.function has experimental_relax_shapes=True option that relaxes argument shapes that can avoid unnecessary retracing. For (3), please refer to https://www.tensorflow.org/guide/function#controlling_retracing and https://www.tensorflow.org/api_docs/python/tf/function for  more details.\n"
          ],
          "name": "stderr"
        }
      ]
    },
    {
      "cell_type": "code",
      "metadata": {
        "colab": {
          "base_uri": "https://localhost:8080/"
        },
        "id": "noNwAFs6tQdY",
        "outputId": "7ee49b00-5f45-4c86-e8e4-3fbd9b5c6e3e"
      },
      "source": [
        "b1_embeddings.shape,b2_embeddings.shape,b3_embeddings.shape,b4_embeddings.shape,b5_embeddings.shape,b6_embeddings.shape"
      ],
      "execution_count": 18,
      "outputs": [
        {
          "output_type": "execute_result",
          "data": {
            "text/plain": [
              "(TensorShape([3000, 512]),\n",
              " TensorShape([3000, 512]),\n",
              " TensorShape([3000, 512]),\n",
              " TensorShape([3000, 512]),\n",
              " TensorShape([3000, 512]),\n",
              " TensorShape([199, 512]))"
            ]
          },
          "metadata": {
            "tags": []
          },
          "execution_count": 18
        }
      ]
    },
    {
      "cell_type": "code",
      "metadata": {
        "colab": {
          "base_uri": "https://localhost:8080/"
        },
        "id": "h443jDuhA6yi",
        "outputId": "a39cfe62-fb48-4039-e65c-27ba4f465fe7"
      },
      "source": [
        "embeddings_total  = tf.concat([b1_embeddings,b2_embeddings,b3_embeddings,\r\n",
        "           b4_embeddings,b5_embeddings,b6_embeddings],axis=0)\r\n",
        "\r\n",
        "embeddings_total.shape"
      ],
      "execution_count": 19,
      "outputs": [
        {
          "output_type": "execute_result",
          "data": {
            "text/plain": [
              "TensorShape([15199, 512])"
            ]
          },
          "metadata": {
            "tags": []
          },
          "execution_count": 19
        }
      ]
    },
    {
      "cell_type": "code",
      "metadata": {
        "id": "U6HzHtn6BlZk"
      },
      "source": [
        "model_tf = tf.keras.Sequential([\r\n",
        "    # tf.keras.layers.Embedding(vocab_size, embedding_dim, input_length=max_length),\r\n",
        "    # tf.keras.layers.Flatten(),\r\n",
        "    tf.keras.layers.Dense(10, activation='relu'),\r\n",
        "    tf.keras.layers.Dense(1,activation='sigmoid')                    \r\n",
        "\r\n",
        "])"
      ],
      "execution_count": 21,
      "outputs": []
    },
    {
      "cell_type": "code",
      "metadata": {
        "id": "E2VgluEyDngW"
      },
      "source": [
        "model_tf.compile(\r\n",
        "    loss='binary_crossentropy',\r\n",
        "    optimizer = 'adam',\r\n",
        "    metrics = ['accuracy']\r\n",
        "    )"
      ],
      "execution_count": 22,
      "outputs": []
    },
    {
      "cell_type": "code",
      "metadata": {
        "colab": {
          "base_uri": "https://localhost:8080/"
        },
        "id": "rJwFltOnDna7",
        "outputId": "0ebe044d-4ffa-4148-8d97-21325ed9467b"
      },
      "source": [
        "num_epochs =10\r\n",
        "\r\n",
        "model_tf.fit(\r\n",
        "    embeddings_total,\r\n",
        "    train_labels,\r\n",
        "    epochs=num_epochs,\r\n",
        "    # validation_data = (testing_padded, testing_labels_final)\r\n",
        "    batch_size = 2000\r\n",
        ")"
      ],
      "execution_count": 23,
      "outputs": [
        {
          "output_type": "stream",
          "text": [
            "Epoch 1/10\n",
            "8/8 [==============================] - 1s 4ms/step - loss: 0.6910 - accuracy: 0.5480\n",
            "Epoch 2/10\n",
            "8/8 [==============================] - 0s 4ms/step - loss: 0.6292 - accuracy: 0.6520\n",
            "Epoch 3/10\n",
            "8/8 [==============================] - 0s 4ms/step - loss: 0.5960 - accuracy: 0.6806\n",
            "Epoch 4/10\n",
            "8/8 [==============================] - 0s 4ms/step - loss: 0.5751 - accuracy: 0.7002\n",
            "Epoch 5/10\n",
            "8/8 [==============================] - 0s 4ms/step - loss: 0.5626 - accuracy: 0.7130\n",
            "Epoch 6/10\n",
            "8/8 [==============================] - 0s 4ms/step - loss: 0.5544 - accuracy: 0.7163\n",
            "Epoch 7/10\n",
            "8/8 [==============================] - 0s 4ms/step - loss: 0.5402 - accuracy: 0.7274\n",
            "Epoch 8/10\n",
            "8/8 [==============================] - 0s 4ms/step - loss: 0.5410 - accuracy: 0.7281\n",
            "Epoch 9/10\n",
            "8/8 [==============================] - 0s 4ms/step - loss: 0.5326 - accuracy: 0.7324\n",
            "Epoch 10/10\n",
            "8/8 [==============================] - 0s 3ms/step - loss: 0.5349 - accuracy: 0.7297\n"
          ],
          "name": "stdout"
        },
        {
          "output_type": "execute_result",
          "data": {
            "text/plain": [
              "<tensorflow.python.keras.callbacks.History at 0x7fd350826588>"
            ]
          },
          "metadata": {
            "tags": []
          },
          "execution_count": 23
        }
      ]
    },
    {
      "cell_type": "code",
      "metadata": {
        "id": "3d3gyuP6EQIf"
      },
      "source": [
        ""
      ],
      "execution_count": null,
      "outputs": []
    },
    {
      "cell_type": "code",
      "metadata": {
        "id": "BsvXSdmgEP9g"
      },
      "source": [
        ""
      ],
      "execution_count": null,
      "outputs": []
    }
  ]
}