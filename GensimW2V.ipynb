{
  "nbformat": 4,
  "nbformat_minor": 0,
  "metadata": {
    "colab": {
      "name": "GensimW2V.ipynb",
      "provenance": [],
      "authorship_tag": "ABX9TyMqFGrcHoj1YonUsZdeKzGV",
      "include_colab_link": true
    },
    "kernelspec": {
      "name": "python3",
      "display_name": "Python 3"
    }
  },
  "cells": [
    {
      "cell_type": "markdown",
      "metadata": {
        "id": "view-in-github",
        "colab_type": "text"
      },
      "source": [
        "<a href=\"https://colab.research.google.com/github/malinphy/Embedding_calls/blob/main/GensimW2V.ipynb\" target=\"_parent\"><img src=\"https://colab.research.google.com/assets/colab-badge.svg\" alt=\"Open In Colab\"/></a>"
      ]
    },
    {
      "cell_type": "code",
      "metadata": {
        "id": "yct-VMx2_Py2"
      },
      "source": [
        "from gensim.models import Word2Vec"
      ],
      "execution_count": 1,
      "outputs": []
    },
    {
      "cell_type": "code",
      "metadata": {
        "id": "QdfLFpMh_Uly"
      },
      "source": [
        "new_sentence = 'A spokesperson didn’t return Yahoo Finance’s request for comment on whether the company and Apple could be collaborating on a battery.'"
      ],
      "execution_count": 2,
      "outputs": []
    },
    {
      "cell_type": "code",
      "metadata": {
        "colab": {
          "base_uri": "https://localhost:8080/"
        },
        "id": "fYSTwnnh_cFq",
        "outputId": "e0b3ad1f-7fd0-43e3-97ac-963bc67f7155"
      },
      "source": [
        "words = new_sentence.lower().split()\r\n",
        "words"
      ],
      "execution_count": 3,
      "outputs": [
        {
          "output_type": "execute_result",
          "data": {
            "text/plain": [
              "['a',\n",
              " 'spokesperson',\n",
              " 'didn’t',\n",
              " 'return',\n",
              " 'yahoo',\n",
              " 'finance’s',\n",
              " 'request',\n",
              " 'for',\n",
              " 'comment',\n",
              " 'on',\n",
              " 'whether',\n",
              " 'the',\n",
              " 'company',\n",
              " 'and',\n",
              " 'apple',\n",
              " 'could',\n",
              " 'be',\n",
              " 'collaborating',\n",
              " 'on',\n",
              " 'a',\n",
              " 'battery.']"
            ]
          },
          "metadata": {
            "tags": []
          },
          "execution_count": 3
        }
      ]
    },
    {
      "cell_type": "code",
      "metadata": {
        "id": "E5Nu37ST_kfY"
      },
      "source": [
        "wv_embed = Word2Vec(words, min_count = 2)\r\n",
        "\r\n",
        "corpus = wv_embed.wv.vocab"
      ],
      "execution_count": 7,
      "outputs": []
    },
    {
      "cell_type": "code",
      "metadata": {
        "colab": {
          "base_uri": "https://localhost:8080/"
        },
        "id": "_OWh2azj_5dh",
        "outputId": "4dc1828c-522d-4414-93a8-6cbbdbd7806c"
      },
      "source": [
        "wv_embed.wv['a']"
      ],
      "execution_count": 9,
      "outputs": [
        {
          "output_type": "execute_result",
          "data": {
            "text/plain": [
              "array([ 6.5668201e-04,  1.6548363e-03,  4.7349213e-03, -5.1478000e-04,\n",
              "       -2.3960723e-03,  5.3008267e-04,  1.7822135e-03, -8.6800929e-04,\n",
              "       -2.6574729e-03, -1.2990944e-03, -1.6420684e-03,  2.6285190e-03,\n",
              "        3.4278943e-03, -8.9120725e-04,  4.3723085e-03, -1.4219277e-03,\n",
              "       -4.6449453e-03,  3.3299008e-03, -4.3231514e-03,  4.0423484e-03,\n",
              "       -8.8381581e-05,  1.9535148e-03,  6.0693722e-04,  1.3452624e-03,\n",
              "        4.0381067e-03, -4.1229678e-03, -1.5739403e-03,  4.6602930e-03,\n",
              "        1.9087057e-04,  4.7552357e-03, -2.3381911e-04,  3.9153770e-03,\n",
              "       -4.5059533e-03, -2.2845101e-03, -4.3812073e-03,  1.3711157e-03,\n",
              "        2.1726100e-03, -3.3297786e-03, -4.9881153e-03, -2.2408140e-03,\n",
              "       -4.8819887e-03, -4.2667845e-03, -2.7556501e-03,  4.2768735e-03,\n",
              "       -1.5280627e-03, -2.4017524e-03, -3.7658976e-03,  1.4263204e-03,\n",
              "       -3.5058125e-03, -8.3857425e-04, -1.8953508e-03, -4.3039164e-03,\n",
              "       -4.4525662e-03,  1.7409775e-03,  4.1808831e-03, -2.7449615e-03,\n",
              "        2.7283921e-03,  3.2486976e-04, -2.6473280e-03,  3.1326377e-05,\n",
              "        4.4532721e-03,  4.6000998e-03, -4.0585455e-03,  2.5541952e-03,\n",
              "        3.8072283e-03,  4.7036712e-03,  4.9148309e-03, -4.7248797e-03,\n",
              "        6.5874128e-04,  4.0082380e-04,  4.6302774e-03,  2.7638541e-03,\n",
              "       -3.1132386e-03,  1.3176221e-03,  2.3612187e-03, -1.8401151e-03,\n",
              "        2.1742447e-03,  3.2947637e-04,  4.1328222e-03, -2.8423336e-03,\n",
              "        1.3832202e-03, -2.7579095e-03, -9.1064931e-04,  3.5142386e-03,\n",
              "        2.3932569e-03,  2.8240317e-03,  3.0756632e-03,  4.4044065e-03,\n",
              "        1.6305826e-03,  1.1859159e-03, -3.7049213e-03, -2.7423588e-04,\n",
              "       -2.3039470e-03,  4.9644480e-03,  1.9465315e-03, -1.7056693e-03,\n",
              "       -1.9272527e-03,  2.4844783e-03, -3.3285141e-03,  1.5322804e-03],\n",
              "      dtype=float32)"
            ]
          },
          "metadata": {
            "tags": []
          },
          "execution_count": 9
        }
      ]
    },
    {
      "cell_type": "code",
      "metadata": {
        "id": "bADexkPOAKZB"
      },
      "source": [
        ""
      ],
      "execution_count": null,
      "outputs": []
    }
  ]
}